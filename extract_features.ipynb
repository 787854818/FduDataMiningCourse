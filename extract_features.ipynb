{
 "cells": [
  {
   "cell_type": "code",
   "execution_count": 1,
   "metadata": {},
   "outputs": [],
   "source": [
    "import pandas as pd\n",
    "\n",
    "import os\n",
    "dataset_path = \"/Users/bruce/Downloads/datasets/so/pastThreeMonth\"\n",
    "\n",
    "filenames = list(os.walk(dataset_path))[0][2]\n",
    "\n",
    "Q_filenames = [name for name in filenames if name[0]==\"Q\"]\n",
    "\n",
    "A_filenames = [name for name in filenames if name[0]==\"A\"]"
   ]
  },
  {
   "cell_type": "markdown",
   "metadata": {},
   "source": [
    "### 读取并拆分数据"
   ]
  },
  {
   "cell_type": "code",
   "execution_count": 2,
   "metadata": {
    "scrolled": true
   },
   "outputs": [
    {
     "name": "stderr",
     "output_type": "stream",
     "text": [
      "/Users/bruce/opt/anaconda3/envs/py38_torch/lib/python3.8/site-packages/IPython/core/interactiveshell.py:3145: DtypeWarning: Columns (10,21) have mixed types.Specify dtype option on import or set low_memory=False.\n",
      "  has_raised = await self.run_ast_nodes(code_ast.body, cell_name,\n"
     ]
    }
   ],
   "source": [
    "q_df = None\n",
    "for i in range(len(Q_filenames)):\n",
    "    qfile_path = os.path.join(dataset_path, Q_filenames[i])\n",
    "    if i==0:\n",
    "        q_df = pd.read_csv(qfile_path)\n",
    "    else:\n",
    "        tmp_df = pd.read_csv(qfile_path)\n",
    "        q_df = pd.concat([q_df, tmp_df])\n",
    " \n",
    "\n",
    "q_df.drop_duplicates(subset=['Id'], keep='first', inplace=True)"
   ]
  },
  {
   "cell_type": "code",
   "execution_count": 3,
   "metadata": {
    "scrolled": false
   },
   "outputs": [
    {
     "name": "stderr",
     "output_type": "stream",
     "text": [
      "/Users/bruce/opt/anaconda3/envs/py38_torch/lib/python3.8/site-packages/IPython/core/interactiveshell.py:3145: DtypeWarning: Columns (12) have mixed types.Specify dtype option on import or set low_memory=False.\n",
      "  has_raised = await self.run_ast_nodes(code_ast.body, cell_name,\n",
      "/Users/bruce/opt/anaconda3/envs/py38_torch/lib/python3.8/site-packages/IPython/core/interactiveshell.py:3145: DtypeWarning: Columns (10,12) have mixed types.Specify dtype option on import or set low_memory=False.\n",
      "  has_raised = await self.run_ast_nodes(code_ast.body, cell_name,\n",
      "/Users/bruce/opt/anaconda3/envs/py38_torch/lib/python3.8/site-packages/IPython/core/interactiveshell.py:3145: DtypeWarning: Columns (10,12,21) have mixed types.Specify dtype option on import or set low_memory=False.\n",
      "  has_raised = await self.run_ast_nodes(code_ast.body, cell_name,\n"
     ]
    }
   ],
   "source": [
    "a_df = None\n",
    "for i in range(len(A_filenames)):\n",
    "    afile_path = os.path.join(dataset_path, A_filenames[i])\n",
    "    if i==0:\n",
    "        a_df = pd.read_csv(afile_path)\n",
    "    else:\n",
    "        tmp_df = pd.read_csv(afile_path)\n",
    "        a_df = pd.concat([a_df, tmp_df])\n",
    "\n",
    "a_df.drop_duplicates(subset=['Id'], keep='first', inplace=True)"
   ]
  },
  {
   "cell_type": "code",
   "execution_count": 4,
   "metadata": {},
   "outputs": [],
   "source": [
    "# 数据中前23列是post，23列之后是user\n",
    "post_columns = a_df.columns[:23]\n",
    "user_columns = a_df.columns[23:]"
   ]
  },
  {
   "cell_type": "code",
   "execution_count": 5,
   "metadata": {},
   "outputs": [],
   "source": [
    "# 将question、answer、user分开\n",
    "u_df = pd.concat([a_df[user_columns], q_df[user_columns]])\n",
    "user_columns = [col for col in user_columns]\n",
    "user_columns[0] = 'Id'\n",
    "user_columns[2] = 'CreationDate'\n",
    "u_df.columns = user_columns\n",
    "a_df = a_df[post_columns]\n",
    "q_df = q_df[post_columns]"
   ]
  },
  {
   "cell_type": "markdown",
   "metadata": {},
   "source": [
    "### 1. 获取label"
   ]
  },
  {
   "cell_type": "markdown",
   "metadata": {},
   "source": [
    "330350"
   ]
  },
  {
   "cell_type": "code",
   "execution_count": 7,
   "metadata": {},
   "outputs": [
    {
     "name": "stdout",
     "output_type": "stream",
     "text": [
      "<class 'pandas.core.frame.DataFrame'>\n",
      "Int64Index: 330350 entries, 0 to 41831\n",
      "Data columns (total 23 columns):\n",
      " #   Column                 Non-Null Count   Dtype  \n",
      "---  ------                 --------------   -----  \n",
      " 0   Id                     330350 non-null  int64  \n",
      " 1   PostTypeId             330350 non-null  int64  \n",
      " 2   AcceptedAnswerId       175232 non-null  float64\n",
      " 3   ParentId               0 non-null       float64\n",
      " 4   CreationDate           330350 non-null  object \n",
      " 5   DeletionDate           0 non-null       float64\n",
      " 6   Score                  330350 non-null  int64  \n",
      " 7   ViewCount              330350 non-null  int64  \n",
      " 8   Body                   330350 non-null  object \n",
      " 9   OwnerUserId            330350 non-null  int64  \n",
      " 10  OwnerDisplayName       110 non-null     object \n",
      " 11  LastEditorUserId       161412 non-null  float64\n",
      " 12  LastEditorDisplayName  153 non-null     object \n",
      " 13  LastEditDate           161559 non-null  object \n",
      " 14  LastActivityDate       330350 non-null  object \n",
      " 15  Title                  330350 non-null  object \n",
      " 16  Tags                   330350 non-null  object \n",
      " 17  AnswerCount            330350 non-null  int64  \n",
      " 18  CommentCount           330350 non-null  int64  \n",
      " 19  FavoriteCount          26192 non-null   float64\n",
      " 20  ClosedDate             20491 non-null   object \n",
      " 21  CommunityOwnedDate     1 non-null       object \n",
      " 22  ContentLicense         330350 non-null  object \n",
      "dtypes: float64(5), int64(7), object(11)\n",
      "memory usage: 60.5+ MB\n"
     ]
    }
   ],
   "source": [
    "q_df.info()"
   ]
  },
  {
   "cell_type": "code",
   "execution_count": 8,
   "metadata": {},
   "outputs": [],
   "source": [
    "# 使用排序来会的分数越大，时间越早的答案\n",
    "a_df['-Score'] = a_df['Score']*(-1)\n",
    "sort_df = a_df.sort_values(by=['ParentId', '-Score', 'CreationDate']).loc[:,['ParentId','Score', 'CreationDate', 'Id']]"
   ]
  },
  {
   "cell_type": "code",
   "execution_count": 9,
   "metadata": {},
   "outputs": [],
   "source": [
    "# 然后使用df去重，仅保留第一条\n",
    "sort_df.drop_duplicates(subset=['ParentId'], keep='first', inplace=True)"
   ]
  },
  {
   "cell_type": "code",
   "execution_count": 10,
   "metadata": {
    "scrolled": false
   },
   "outputs": [
    {
     "data": {
      "text/plain": [
       "(329751, 4)"
      ]
     },
     "execution_count": 10,
     "metadata": {},
     "output_type": "execute_result"
    }
   ],
   "source": [
    "sort_df.shape"
   ]
  },
  {
   "cell_type": "code",
   "execution_count": 13,
   "metadata": {},
   "outputs": [],
   "source": [
    "a_df.drop(columns=['-Score'], inplace=True)"
   ]
  },
  {
   "cell_type": "code",
   "execution_count": 14,
   "metadata": {},
   "outputs": [],
   "source": [
    "# 拼接\n",
    "qtime_df = q_df.loc[:, ['Id', 'CreationDate']]\n",
    "sort_df = pd.merge(left=sort_df, right=qtime_df, left_on='ParentId', right_on = 'Id')"
   ]
  },
  {
   "cell_type": "code",
   "execution_count": 15,
   "metadata": {},
   "outputs": [],
   "source": [
    "# 设置列名\n",
    "sort_df.columns = ['ParentId', 'a_Score', 'a_CreationDate', 'a_Id', 'q_Id', 'q_CreationDate']"
   ]
  },
  {
   "cell_type": "code",
   "execution_count": 16,
   "metadata": {},
   "outputs": [],
   "source": [
    "import time\n",
    "# 将字符串格式时间转换为时间戳\n",
    "def str_to_timestep(s):\n",
    "    timeArray = time.strptime(s.split('.')[0], \"%Y-%m-%d %H:%M:%S\")\n",
    "    timeStamp = int(time.mktime(timeArray))\n",
    "    return timeStamp"
   ]
  },
  {
   "cell_type": "code",
   "execution_count": 17,
   "metadata": {},
   "outputs": [],
   "source": [
    "sort_df['a_CreationDateStamp'] = sort_df['a_CreationDate'].apply(str_to_timestep)\n",
    "sort_df['q_CreationDateStamp'] = sort_df['q_CreationDate'].apply(str_to_timestep)\n",
    "# 计算回答和提问的相隔时间，单位是s\n",
    "sort_df['TimeDelta'] = sort_df['a_CreationDateStamp'] - sort_df['q_CreationDateStamp']"
   ]
  },
  {
   "cell_type": "markdown",
   "metadata": {},
   "source": [
    "#### <font color='blue'>获得了label，包含问题的id，答案的id， 时间间隔</font>"
   ]
  },
  {
   "cell_type": "code",
   "execution_count": 18,
   "metadata": {},
   "outputs": [],
   "source": [
    "label_df = sort_df.loc[:, ['q_Id', 'a_Id', 'TimeDelta']]\n",
    "del sort_df"
   ]
  },
  {
   "cell_type": "code",
   "execution_count": 19,
   "metadata": {},
   "outputs": [
    {
     "name": "stdout",
     "output_type": "stream",
     "text": [
      "<class 'pandas.core.frame.DataFrame'>\n",
      "Int64Index: 327349 entries, 0 to 327348\n",
      "Data columns (total 3 columns):\n",
      " #   Column     Non-Null Count   Dtype\n",
      "---  ------     --------------   -----\n",
      " 0   q_Id       327349 non-null  int64\n",
      " 1   a_Id       327349 non-null  int64\n",
      " 2   TimeDelta  327349 non-null  int64\n",
      "dtypes: int64(3)\n",
      "memory usage: 10.0 MB\n"
     ]
    }
   ],
   "source": [
    "label_df.info()"
   ]
  },
  {
   "cell_type": "markdown",
   "metadata": {},
   "source": [
    "### 2. 存储label、user、answer、question"
   ]
  },
  {
   "cell_type": "code",
   "execution_count": null,
   "metadata": {},
   "outputs": [],
   "source": [
    "output_path = os.path.join(dataset_path, 'output')\n",
    "output_filepath = os.path.join(output_path, 'label.csv')\n",
    "label_df.to_csv(output_filepath)"
   ]
  },
  {
   "cell_type": "code",
   "execution_count": null,
   "metadata": {},
   "outputs": [],
   "source": [
    "user_filepath = os.path.join(output_path, 'user.csv')\n",
    "ans_filepath = os.path.join(output_path, 'answer.csv')\n",
    "ques_filepath = os.path.join(output_path, 'question.csv')\n",
    "\n",
    "u_df.to_csv(user_filepath)\n",
    "a_df.to_csv(ans_filepath)\n",
    "q_df.to_csv(ques_filepath)"
   ]
  },
  {
   "cell_type": "markdown",
   "metadata": {},
   "source": [
    "### 3. 计算基于Tag的特征 "
   ]
  },
  {
   "cell_type": "code",
   "execution_count": 31,
   "metadata": {},
   "outputs": [],
   "source": [
    "def handle_tag(tag):\n",
    "    # 去除尖括号\n",
    "    return tag.replace(\"<\", \" \").replace(\">\", \" \").strip()"
   ]
  },
  {
   "cell_type": "code",
   "execution_count": 27,
   "metadata": {},
   "outputs": [],
   "source": [
    "# 因为数据原因，部分数据没有label，因此将将没有label的数据剔除\n",
    "q_df = label_df.merge(how=\"left\", right = q_df, left_on='q_Id', right_on='Id')\n",
    "\n",
    "q_df.drop(columns=['q_Id', 'a_Id', 'TimeDelta'], inplace=True)"
   ]
  },
  {
   "cell_type": "code",
   "execution_count": 32,
   "metadata": {},
   "outputs": [],
   "source": [
    "# 处理tag\n",
    "q_df[\"Tags\"] = q_df[\"Tags\"].apply(handle_tag)\n",
    "q_df['Tags'] = q_df['Tags'].apply(lambda x: x.split())"
   ]
  },
  {
   "cell_type": "code",
   "execution_count": 33,
   "metadata": {
    "scrolled": true
   },
   "outputs": [
    {
     "name": "stderr",
     "output_type": "stream",
     "text": [
      "100%|██████████| 327349/327349 [02:06<00:00, 2585.84it/s]\n"
     ]
    }
   ],
   "source": [
    "# tag和question之间的关系\n",
    "from tqdm import trange\n",
    "\n",
    "tag_questions = []\n",
    "q_num = q_df.shape[0]\n",
    "for i in trange(q_num):\n",
    "    q_id = q_df.iloc[i]['Id']\n",
    "    tags = q_df.iloc[i]['Tags']\n",
    "    for t in tags:\n",
    "        tag_questions.append([t, q_id])"
   ]
  },
  {
   "cell_type": "markdown",
   "metadata": {},
   "source": [
    "#### <font color='blue'>(1)获得tag的流行度</font>"
   ]
  },
  {
   "cell_type": "markdown",
   "metadata": {},
   "source": [
    "tag和question对应的dataframe"
   ]
  },
  {
   "cell_type": "code",
   "execution_count": 34,
   "metadata": {},
   "outputs": [],
   "source": [
    "tag_ques_df = pd.DataFrame(tag_questions)\n",
    "\n",
    "tag_ques_df.columns=['Tag', 'q_Id']\n",
    "\n",
    "tag_features_df = tag_ques_df.groupby('Tag').size().reset_index(name='QuestionsNumber').sort_values(by=['Tag'])"
   ]
  },
  {
   "cell_type": "markdown",
   "metadata": {},
   "source": [
    "跟label拼接，得到tag、question、time对应关系"
   ]
  },
  {
   "cell_type": "code",
   "execution_count": 35,
   "metadata": {},
   "outputs": [],
   "source": [
    "tag_ques_time_df = pd.merge(left = tag_ques_df, right = label_df,left_on=tag_ques_df.q_Id, right_on=label_df.q_Id)"
   ]
  },
  {
   "cell_type": "code",
   "execution_count": 36,
   "metadata": {
    "scrolled": false
   },
   "outputs": [],
   "source": [
    "threshold = 60*60  # 一小时\n",
    "tag_ques_time_df['WhetherQuick'] = tag_ques_time_df['TimeDelta']<threshold\n",
    "tag_ques_time_df['WhetherQuick'] = tag_ques_time_df['WhetherQuick'].astype('float')"
   ]
  },
  {
   "cell_type": "code",
   "execution_count": 37,
   "metadata": {},
   "outputs": [],
   "source": [
    "# 每个tag下平均响应时间\n",
    "tag_time_df = tag_ques_time_df.groupby('Tag')['TimeDelta'].mean().reset_index(name='AverageTime'\\\n",
    "                                                                             ).sort_values(by=['Tag'])\n",
    "# 每个tag下得到快速响应的问题个数\n",
    "tag_quick_df = tag_ques_time_df.groupby('Tag')['WhetherQuick'].sum().reset_index(name='QuickNumber'\\\n",
    "                                                                                ).sort_values(by=['Tag'])"
   ]
  },
  {
   "cell_type": "markdown",
   "metadata": {},
   "source": [
    "#### <font color='blue'>(2)获得tag的平均响应时间、快速个数</font>"
   ]
  },
  {
   "cell_type": "code",
   "execution_count": 38,
   "metadata": {},
   "outputs": [],
   "source": [
    "tag_features_df['AverageTime'] = tag_time_df['AverageTime'].astype(int)\n",
    "tag_features_df['QuickNumber'] = tag_quick_df['QuickNumber'].astype(int)"
   ]
  },
  {
   "cell_type": "code",
   "execution_count": 39,
   "metadata": {},
   "outputs": [],
   "source": [
    "del tag_time_df;\n",
    "del tag_quick_df;"
   ]
  },
  {
   "cell_type": "markdown",
   "metadata": {},
   "source": [
    "一共有26883个tag，其中76个响应时间为Nan，可能是数据丢失的问题,分别使用0和中位数来填充"
   ]
  },
  {
   "cell_type": "code",
   "execution_count": 40,
   "metadata": {},
   "outputs": [],
   "source": [
    "tag_features_df['QuickNumber']=tag_features_df['QuickNumber'].fillna(0)\n",
    "tag_features_df['AverageTime']=tag_features_df['AverageTime'].fillna(tag_features_df['AverageTime'].median())"
   ]
  },
  {
   "cell_type": "markdown",
   "metadata": {},
   "source": [
    "#### (3)存储tag具有的属性"
   ]
  },
  {
   "cell_type": "code",
   "execution_count": null,
   "metadata": {},
   "outputs": [],
   "source": [
    "tag_features_filepath = os.path.join(output_path, 'tag_features.csv')\n",
    "tag_features_df.to_csv(tag_features_filepath)"
   ]
  },
  {
   "cell_type": "markdown",
   "metadata": {},
   "source": [
    "#### (4) 通过tag属性来计算question的tag-based属性 "
   ]
  },
  {
   "cell_type": "code",
   "execution_count": 42,
   "metadata": {},
   "outputs": [],
   "source": [
    "tmp_df = pd.merge(left = tag_ques_df, right = tag_features_df, left_on = 'Tag', right_on = 'Tag')"
   ]
  },
  {
   "cell_type": "code",
   "execution_count": 43,
   "metadata": {},
   "outputs": [],
   "source": [
    "tag_popularity = tmp_df.groupby('q_Id')['QuestionsNumber'\\\n",
    "                                       ].sum().reset_index(name='TagPopularity').sort_values(by=['q_Id'])"
   ]
  },
  {
   "cell_type": "code",
   "execution_count": 44,
   "metadata": {},
   "outputs": [],
   "source": [
    "tag_averageTime = tmp_df.groupby('q_Id')['AverageTime'\\\n",
    "                                        ].mean().reset_index(name='TagAverageTime').sort_values(by=['q_Id'])"
   ]
  },
  {
   "cell_type": "code",
   "execution_count": 45,
   "metadata": {},
   "outputs": [],
   "source": [
    "tag_averageQuick = tmp_df.groupby('q_Id')['QuickNumber'\\\n",
    "                                        ].mean().reset_index(name='TagAverageQuick').sort_values(by=['q_Id'])"
   ]
  },
  {
   "cell_type": "code",
   "execution_count": 46,
   "metadata": {},
   "outputs": [
    {
     "name": "stdout",
     "output_type": "stream",
     "text": [
      "<class 'pandas.core.frame.DataFrame'>\n",
      "Int64Index: 327349 entries, 0 to 327348\n",
      "Data columns (total 2 columns):\n",
      " #   Column           Non-Null Count   Dtype  \n",
      "---  ------           --------------   -----  \n",
      " 0   q_Id             327349 non-null  int64  \n",
      " 1   TagAverageQuick  327349 non-null  float64\n",
      "dtypes: float64(1), int64(1)\n",
      "memory usage: 7.5 MB\n"
     ]
    }
   ],
   "source": [
    "tag_averageQuick.info()"
   ]
  },
  {
   "cell_type": "code",
   "execution_count": 47,
   "metadata": {},
   "outputs": [],
   "source": [
    "tag_based_features = tag_popularity\n",
    "tag_based_features['TagAverageTime'] = tag_averageTime['TagAverageTime']\n",
    "tag_based_features['TagAverageQuick'] = tag_averageQuick['TagAverageQuick']"
   ]
  },
  {
   "cell_type": "markdown",
   "metadata": {},
   "source": [
    "#### (5)存储tag-based的属性 "
   ]
  },
  {
   "cell_type": "code",
   "execution_count": null,
   "metadata": {},
   "outputs": [],
   "source": [
    "tag_based_features_filepath = os.path.join(output_path, 'tag_based_features.csv')\n",
    "tag_based_features.to_csv(tag_based_features_filepath)"
   ]
  },
  {
   "cell_type": "markdown",
   "metadata": {},
   "source": [
    "### 3. 计算不基于Tag的特征, 即问题本身的特征"
   ]
  },
  {
   "cell_type": "code",
   "execution_count": 48,
   "metadata": {},
   "outputs": [],
   "source": [
    "self_features = pd.DataFrame()"
   ]
  },
  {
   "cell_type": "code",
   "execution_count": 49,
   "metadata": {},
   "outputs": [],
   "source": [
    "self_features['Id'] = q_df['Id']"
   ]
  },
  {
   "cell_type": "code",
   "execution_count": 50,
   "metadata": {},
   "outputs": [],
   "source": [
    "self_features['num_code_snippet'] = 0\n",
    "self_features['code_len'] = 0\n",
    "self_features['num_image'] = 0\n",
    "self_features['body_len'] = 0\n",
    "self_features['title_len'] = 0\n",
    "self_features['end_que_mark'] = 0\n",
    "self_features['begin_que_word'] = 0\n",
    "self_features['is_weekend'] = 0"
   ]
  },
  {
   "cell_type": "markdown",
   "metadata": {},
   "source": [
    "#### (1) 通过问题的Body、Title、CreationDate来获得question自身的特征"
   ]
  },
  {
   "cell_type": "code",
   "execution_count": 51,
   "metadata": {},
   "outputs": [],
   "source": [
    "import re\n",
    "from datetime import datetime\n",
    "\n",
    "code_pattern = re.compile(r\"<code>(.*?)</code>\", flags=re.DOTALL)\n",
    "img_pattern = re.compile(r\"<img(.*?)>\", flags=re.DOTALL)\n",
    "\n",
    "def get_num_code_snippet(s):\n",
    "    res = code_pattern.findall(s)\n",
    "    return len(res)\n",
    "\n",
    "def get_code_len(s):\n",
    "    res = code_pattern.findall(s)\n",
    "    code_len = sum([len(code) for code in res])\n",
    "    return code_len\n",
    "\n",
    "def get_num_img(s):\n",
    "    res = img_pattern.findall(s)\n",
    "    return len(res)\n",
    "\n",
    "def get_body_len(s):\n",
    "    return len(s)\n",
    "\n",
    "def get_title_len(s):\n",
    "    return len(s)\n",
    "\n",
    "def get_end_que_mark(s):\n",
    "    s = s.strip()\n",
    "    return len(s)!=0 and s[-1] == '?'\n",
    "\n",
    "def get_begin_que_word(s):\n",
    "    s = s.strip().lower()\n",
    "    return len(s)!=0 and (s.startswith('wh') or s.startswith('how'))\n",
    "\n",
    "def get_is_weekend(s):\n",
    "    date_time_obj = datetime.strptime(s, '%Y-%m-%d %H:%M:%S')\n",
    "    return date_time_obj.weekday()>=5    # 周一是0，周二是1，... , 周日是6"
   ]
  },
  {
   "cell_type": "code",
   "execution_count": 52,
   "metadata": {
    "scrolled": true
   },
   "outputs": [
    {
     "name": "stderr",
     "output_type": "stream",
     "text": [
      "/Users/bruce/opt/anaconda3/envs/py38_torch/lib/python3.8/site-packages/tqdm/std.py:670: FutureWarning: The Panel class is removed from pandas. Accessing it from the top-level namespace will also be removed in the next version\n",
      "  from pandas import Panel\n",
      "100%|██████████| 327349/327349 [00:09<00:00, 33784.83it/s]\n",
      "100%|██████████| 327349/327349 [00:09<00:00, 33535.47it/s]\n",
      "100%|██████████| 327349/327349 [00:01<00:00, 239514.99it/s]\n",
      "100%|██████████| 327349/327349 [00:00<00:00, 561551.25it/s]\n",
      "100%|██████████| 327349/327349 [00:00<00:00, 608150.19it/s]\n",
      "100%|██████████| 327349/327349 [00:00<00:00, 594171.94it/s]\n",
      "100%|██████████| 327349/327349 [00:00<00:00, 417208.68it/s]\n",
      "100%|██████████| 327349/327349 [00:04<00:00, 67841.43it/s]\n"
     ]
    }
   ],
   "source": [
    "from tqdm import tqdm\n",
    "\n",
    "tqdm.pandas()\n",
    "\n",
    "self_features['num_code_snippet'] = q_df['Body'].progress_apply(get_num_code_snippet)\n",
    "self_features['code_len'] = q_df['Body'].progress_apply(get_code_len)\n",
    "self_features['num_image'] = q_df['Body'].progress_apply(get_num_img)\n",
    "self_features['body_len'] = q_df['Body'].progress_apply(get_body_len)\n",
    "self_features['title_len'] = q_df['Title'].progress_apply(get_title_len)\n",
    "self_features['end_que_mark'] = q_df['Title'].progress_apply(get_end_que_mark)\n",
    "self_features['begin_que_word'] = q_df['Title'].progress_apply(get_begin_que_word)\n",
    "self_features['is_weekend'] = q_df['CreationDate'].progress_apply(get_is_weekend)"
   ]
  },
  {
   "cell_type": "markdown",
   "metadata": {},
   "source": [
    "#### (2) 存储问题自身特征"
   ]
  },
  {
   "cell_type": "code",
   "execution_count": null,
   "metadata": {
    "scrolled": true
   },
   "outputs": [],
   "source": [
    "self_features_filepath = os.path.join(output_path, 'self_features.csv')\n",
    "self_features.to_csv(self_features_filepath)"
   ]
  },
  {
   "cell_type": "markdown",
   "metadata": {},
   "source": [
    "#### (3) 将问题self和tag based的特征合并起来进行存储"
   ]
  },
  {
   "cell_type": "code",
   "execution_count": 53,
   "metadata": {},
   "outputs": [],
   "source": [
    "self_and_tag_features = pd.merge(left=self_features, right=tag_based_features, left_on='Id', right_on='q_Id')"
   ]
  },
  {
   "cell_type": "code",
   "execution_count": 54,
   "metadata": {},
   "outputs": [],
   "source": [
    "self_and_tag_features.drop(columns=['q_Id'], inplace=True)"
   ]
  },
  {
   "cell_type": "code",
   "execution_count": 55,
   "metadata": {},
   "outputs": [],
   "source": [
    "self_and_tag_features['end_que_mark'] = self_and_tag_features['end_que_mark'].astype(int)\n",
    "self_and_tag_features['begin_que_word'] = self_and_tag_features['begin_que_word'].astype(int)\n",
    "self_and_tag_features['is_weekend'] = self_and_tag_features['is_weekend'].astype(int)"
   ]
  },
  {
   "cell_type": "code",
   "execution_count": 58,
   "metadata": {},
   "outputs": [],
   "source": [
    "features_df = self_and_tag_features\n",
    "features_filepath = os.path.join(output_path, 'feature.csv')\n",
    "features_df.to_csv(features_filepath)"
   ]
  },
  {
   "cell_type": "markdown",
   "metadata": {},
   "source": [
    "## 最后提取得到features和label"
   ]
  },
  {
   "cell_type": "code",
   "execution_count": 63,
   "metadata": {},
   "outputs": [
    {
     "data": {
      "text/plain": [
       "327349"
      ]
     },
     "execution_count": 63,
     "metadata": {},
     "output_type": "execute_result"
    }
   ],
   "source": [
    "(label_df[\"q_Id\"].sort_values() == features_df[\"Id\"].sort_values()).sum()"
   ]
  },
  {
   "cell_type": "code",
   "execution_count": 64,
   "metadata": {},
   "outputs": [
    {
     "data": {
      "text/html": [
       "<div>\n",
       "<style scoped>\n",
       "    .dataframe tbody tr th:only-of-type {\n",
       "        vertical-align: middle;\n",
       "    }\n",
       "\n",
       "    .dataframe tbody tr th {\n",
       "        vertical-align: top;\n",
       "    }\n",
       "\n",
       "    .dataframe thead th {\n",
       "        text-align: right;\n",
       "    }\n",
       "</style>\n",
       "<table border=\"1\" class=\"dataframe\">\n",
       "  <thead>\n",
       "    <tr style=\"text-align: right;\">\n",
       "      <th></th>\n",
       "      <th>Id</th>\n",
       "      <th>num_code_snippet</th>\n",
       "      <th>code_len</th>\n",
       "      <th>num_image</th>\n",
       "      <th>body_len</th>\n",
       "      <th>title_len</th>\n",
       "      <th>end_que_mark</th>\n",
       "      <th>begin_que_word</th>\n",
       "      <th>is_weekend</th>\n",
       "      <th>TagPopularity</th>\n",
       "      <th>TagAverageTime</th>\n",
       "      <th>TagAverageQuick</th>\n",
       "    </tr>\n",
       "  </thead>\n",
       "  <tbody>\n",
       "    <tr>\n",
       "      <th>0</th>\n",
       "      <td>63679634</td>\n",
       "      <td>1</td>\n",
       "      <td>688</td>\n",
       "      <td>0</td>\n",
       "      <td>1434</td>\n",
       "      <td>61</td>\n",
       "      <td>0</td>\n",
       "      <td>0</td>\n",
       "      <td>0</td>\n",
       "      <td>46348</td>\n",
       "      <td>36998.000000</td>\n",
       "      <td>10349.333333</td>\n",
       "    </tr>\n",
       "    <tr>\n",
       "      <th>1</th>\n",
       "      <td>63679639</td>\n",
       "      <td>2</td>\n",
       "      <td>2189</td>\n",
       "      <td>0</td>\n",
       "      <td>2738</td>\n",
       "      <td>48</td>\n",
       "      <td>0</td>\n",
       "      <td>0</td>\n",
       "      <td>0</td>\n",
       "      <td>28389</td>\n",
       "      <td>76474.250000</td>\n",
       "      <td>4026.750000</td>\n",
       "    </tr>\n",
       "    <tr>\n",
       "      <th>2</th>\n",
       "      <td>63679644</td>\n",
       "      <td>3</td>\n",
       "      <td>510</td>\n",
       "      <td>0</td>\n",
       "      <td>1088</td>\n",
       "      <td>50</td>\n",
       "      <td>0</td>\n",
       "      <td>0</td>\n",
       "      <td>0</td>\n",
       "      <td>243</td>\n",
       "      <td>159547.000000</td>\n",
       "      <td>54.000000</td>\n",
       "    </tr>\n",
       "    <tr>\n",
       "      <th>3</th>\n",
       "      <td>63679645</td>\n",
       "      <td>2</td>\n",
       "      <td>609</td>\n",
       "      <td>0</td>\n",
       "      <td>1034</td>\n",
       "      <td>77</td>\n",
       "      <td>0</td>\n",
       "      <td>1</td>\n",
       "      <td>0</td>\n",
       "      <td>4774</td>\n",
       "      <td>96742.000000</td>\n",
       "      <td>2825.000000</td>\n",
       "    </tr>\n",
       "    <tr>\n",
       "      <th>4</th>\n",
       "      <td>63679646</td>\n",
       "      <td>3</td>\n",
       "      <td>581</td>\n",
       "      <td>0</td>\n",
       "      <td>990</td>\n",
       "      <td>29</td>\n",
       "      <td>0</td>\n",
       "      <td>0</td>\n",
       "      <td>0</td>\n",
       "      <td>1081</td>\n",
       "      <td>99484.666667</td>\n",
       "      <td>134.333333</td>\n",
       "    </tr>\n",
       "    <tr>\n",
       "      <th>...</th>\n",
       "      <td>...</td>\n",
       "      <td>...</td>\n",
       "      <td>...</td>\n",
       "      <td>...</td>\n",
       "      <td>...</td>\n",
       "      <td>...</td>\n",
       "      <td>...</td>\n",
       "      <td>...</td>\n",
       "      <td>...</td>\n",
       "      <td>...</td>\n",
       "      <td>...</td>\n",
       "      <td>...</td>\n",
       "    </tr>\n",
       "    <tr>\n",
       "      <th>327344</th>\n",
       "      <td>65082861</td>\n",
       "      <td>2</td>\n",
       "      <td>1369</td>\n",
       "      <td>0</td>\n",
       "      <td>2011</td>\n",
       "      <td>72</td>\n",
       "      <td>1</td>\n",
       "      <td>1</td>\n",
       "      <td>0</td>\n",
       "      <td>59369</td>\n",
       "      <td>73924.000000</td>\n",
       "      <td>12305.333333</td>\n",
       "    </tr>\n",
       "    <tr>\n",
       "      <th>327345</th>\n",
       "      <td>65082862</td>\n",
       "      <td>2</td>\n",
       "      <td>33</td>\n",
       "      <td>0</td>\n",
       "      <td>399</td>\n",
       "      <td>69</td>\n",
       "      <td>1</td>\n",
       "      <td>1</td>\n",
       "      <td>0</td>\n",
       "      <td>53554</td>\n",
       "      <td>101735.000000</td>\n",
       "      <td>11226.000000</td>\n",
       "    </tr>\n",
       "    <tr>\n",
       "      <th>327346</th>\n",
       "      <td>65083411</td>\n",
       "      <td>2</td>\n",
       "      <td>1247</td>\n",
       "      <td>0</td>\n",
       "      <td>1772</td>\n",
       "      <td>36</td>\n",
       "      <td>0</td>\n",
       "      <td>0</td>\n",
       "      <td>1</td>\n",
       "      <td>2580</td>\n",
       "      <td>147245.333333</td>\n",
       "      <td>360.333333</td>\n",
       "    </tr>\n",
       "    <tr>\n",
       "      <th>327347</th>\n",
       "      <td>65092147</td>\n",
       "      <td>1</td>\n",
       "      <td>1810</td>\n",
       "      <td>1</td>\n",
       "      <td>2872</td>\n",
       "      <td>62</td>\n",
       "      <td>1</td>\n",
       "      <td>1</td>\n",
       "      <td>0</td>\n",
       "      <td>65164</td>\n",
       "      <td>183770.750000</td>\n",
       "      <td>10890.250000</td>\n",
       "    </tr>\n",
       "    <tr>\n",
       "      <th>327348</th>\n",
       "      <td>65139854</td>\n",
       "      <td>0</td>\n",
       "      <td>0</td>\n",
       "      <td>0</td>\n",
       "      <td>1182</td>\n",
       "      <td>55</td>\n",
       "      <td>0</td>\n",
       "      <td>1</td>\n",
       "      <td>0</td>\n",
       "      <td>4546</td>\n",
       "      <td>194612.666667</td>\n",
       "      <td>623.333333</td>\n",
       "    </tr>\n",
       "  </tbody>\n",
       "</table>\n",
       "<p>327349 rows × 12 columns</p>\n",
       "</div>"
      ],
      "text/plain": [
       "              Id  num_code_snippet  code_len  num_image  body_len  title_len  \\\n",
       "0       63679634                 1       688          0      1434         61   \n",
       "1       63679639                 2      2189          0      2738         48   \n",
       "2       63679644                 3       510          0      1088         50   \n",
       "3       63679645                 2       609          0      1034         77   \n",
       "4       63679646                 3       581          0       990         29   \n",
       "...          ...               ...       ...        ...       ...        ...   \n",
       "327344  65082861                 2      1369          0      2011         72   \n",
       "327345  65082862                 2        33          0       399         69   \n",
       "327346  65083411                 2      1247          0      1772         36   \n",
       "327347  65092147                 1      1810          1      2872         62   \n",
       "327348  65139854                 0         0          0      1182         55   \n",
       "\n",
       "        end_que_mark  begin_que_word  is_weekend  TagPopularity  \\\n",
       "0                  0               0           0          46348   \n",
       "1                  0               0           0          28389   \n",
       "2                  0               0           0            243   \n",
       "3                  0               1           0           4774   \n",
       "4                  0               0           0           1081   \n",
       "...              ...             ...         ...            ...   \n",
       "327344             1               1           0          59369   \n",
       "327345             1               1           0          53554   \n",
       "327346             0               0           1           2580   \n",
       "327347             1               1           0          65164   \n",
       "327348             0               1           0           4546   \n",
       "\n",
       "        TagAverageTime  TagAverageQuick  \n",
       "0         36998.000000     10349.333333  \n",
       "1         76474.250000      4026.750000  \n",
       "2        159547.000000        54.000000  \n",
       "3         96742.000000      2825.000000  \n",
       "4         99484.666667       134.333333  \n",
       "...                ...              ...  \n",
       "327344    73924.000000     12305.333333  \n",
       "327345   101735.000000     11226.000000  \n",
       "327346   147245.333333       360.333333  \n",
       "327347   183770.750000     10890.250000  \n",
       "327348   194612.666667       623.333333  \n",
       "\n",
       "[327349 rows x 12 columns]"
      ]
     },
     "execution_count": 64,
     "metadata": {},
     "output_type": "execute_result"
    }
   ],
   "source": [
    "features_df"
   ]
  },
  {
   "cell_type": "code",
   "execution_count": 65,
   "metadata": {},
   "outputs": [
    {
     "data": {
      "text/html": [
       "<div>\n",
       "<style scoped>\n",
       "    .dataframe tbody tr th:only-of-type {\n",
       "        vertical-align: middle;\n",
       "    }\n",
       "\n",
       "    .dataframe tbody tr th {\n",
       "        vertical-align: top;\n",
       "    }\n",
       "\n",
       "    .dataframe thead th {\n",
       "        text-align: right;\n",
       "    }\n",
       "</style>\n",
       "<table border=\"1\" class=\"dataframe\">\n",
       "  <thead>\n",
       "    <tr style=\"text-align: right;\">\n",
       "      <th></th>\n",
       "      <th>q_Id</th>\n",
       "      <th>a_Id</th>\n",
       "      <th>TimeDelta</th>\n",
       "    </tr>\n",
       "  </thead>\n",
       "  <tbody>\n",
       "    <tr>\n",
       "      <th>0</th>\n",
       "      <td>63679634</td>\n",
       "      <td>63679739</td>\n",
       "      <td>1047</td>\n",
       "    </tr>\n",
       "    <tr>\n",
       "      <th>1</th>\n",
       "      <td>63679639</td>\n",
       "      <td>63679836</td>\n",
       "      <td>1943</td>\n",
       "    </tr>\n",
       "    <tr>\n",
       "      <th>2</th>\n",
       "      <td>63679644</td>\n",
       "      <td>63680300</td>\n",
       "      <td>6848</td>\n",
       "    </tr>\n",
       "    <tr>\n",
       "      <th>3</th>\n",
       "      <td>63679645</td>\n",
       "      <td>63680052</td>\n",
       "      <td>4312</td>\n",
       "    </tr>\n",
       "    <tr>\n",
       "      <th>4</th>\n",
       "      <td>63679646</td>\n",
       "      <td>63680417</td>\n",
       "      <td>7919</td>\n",
       "    </tr>\n",
       "    <tr>\n",
       "      <th>...</th>\n",
       "      <td>...</td>\n",
       "      <td>...</td>\n",
       "      <td>...</td>\n",
       "    </tr>\n",
       "    <tr>\n",
       "      <th>327344</th>\n",
       "      <td>65082861</td>\n",
       "      <td>65083253</td>\n",
       "      <td>3099</td>\n",
       "    </tr>\n",
       "    <tr>\n",
       "      <th>327345</th>\n",
       "      <td>65082862</td>\n",
       "      <td>65083155</td>\n",
       "      <td>2316</td>\n",
       "    </tr>\n",
       "    <tr>\n",
       "      <th>327346</th>\n",
       "      <td>65083411</td>\n",
       "      <td>65083412</td>\n",
       "      <td>94328</td>\n",
       "    </tr>\n",
       "    <tr>\n",
       "      <th>327347</th>\n",
       "      <td>65092147</td>\n",
       "      <td>65092148</td>\n",
       "      <td>1515779</td>\n",
       "    </tr>\n",
       "    <tr>\n",
       "      <th>327348</th>\n",
       "      <td>65139854</td>\n",
       "      <td>65139855</td>\n",
       "      <td>66550</td>\n",
       "    </tr>\n",
       "  </tbody>\n",
       "</table>\n",
       "<p>327349 rows × 3 columns</p>\n",
       "</div>"
      ],
      "text/plain": [
       "            q_Id      a_Id  TimeDelta\n",
       "0       63679634  63679739       1047\n",
       "1       63679639  63679836       1943\n",
       "2       63679644  63680300       6848\n",
       "3       63679645  63680052       4312\n",
       "4       63679646  63680417       7919\n",
       "...          ...       ...        ...\n",
       "327344  65082861  65083253       3099\n",
       "327345  65082862  65083155       2316\n",
       "327346  65083411  65083412      94328\n",
       "327347  65092147  65092148    1515779\n",
       "327348  65139854  65139855      66550\n",
       "\n",
       "[327349 rows x 3 columns]"
      ]
     },
     "execution_count": 65,
     "metadata": {},
     "output_type": "execute_result"
    }
   ],
   "source": [
    "label_df"
   ]
  },
  {
   "cell_type": "code",
   "execution_count": 66,
   "metadata": {
    "scrolled": true
   },
   "outputs": [
    {
     "data": {
      "text/html": [
       "<div>\n",
       "<style scoped>\n",
       "    .dataframe tbody tr th:only-of-type {\n",
       "        vertical-align: middle;\n",
       "    }\n",
       "\n",
       "    .dataframe tbody tr th {\n",
       "        vertical-align: top;\n",
       "    }\n",
       "\n",
       "    .dataframe thead th {\n",
       "        text-align: right;\n",
       "    }\n",
       "</style>\n",
       "<table border=\"1\" class=\"dataframe\">\n",
       "  <thead>\n",
       "    <tr style=\"text-align: right;\">\n",
       "      <th></th>\n",
       "      <th>Tag</th>\n",
       "      <th>QuestionsNumber</th>\n",
       "      <th>AverageTime</th>\n",
       "      <th>QuickNumber</th>\n",
       "    </tr>\n",
       "  </thead>\n",
       "  <tbody>\n",
       "    <tr>\n",
       "      <th>0</th>\n",
       "      <td>.a</td>\n",
       "      <td>1</td>\n",
       "      <td>273</td>\n",
       "      <td>1</td>\n",
       "    </tr>\n",
       "    <tr>\n",
       "      <th>1</th>\n",
       "      <td>.app</td>\n",
       "      <td>1</td>\n",
       "      <td>685</td>\n",
       "      <td>1</td>\n",
       "    </tr>\n",
       "    <tr>\n",
       "      <th>2</th>\n",
       "      <td>.class-file</td>\n",
       "      <td>1</td>\n",
       "      <td>4446</td>\n",
       "      <td>0</td>\n",
       "    </tr>\n",
       "    <tr>\n",
       "      <th>3</th>\n",
       "      <td>.d.ts</td>\n",
       "      <td>4</td>\n",
       "      <td>1123575</td>\n",
       "      <td>0</td>\n",
       "    </tr>\n",
       "    <tr>\n",
       "      <th>4</th>\n",
       "      <td>.doc</td>\n",
       "      <td>1</td>\n",
       "      <td>58014</td>\n",
       "      <td>0</td>\n",
       "    </tr>\n",
       "    <tr>\n",
       "      <th>...</th>\n",
       "      <td>...</td>\n",
       "      <td>...</td>\n",
       "      <td>...</td>\n",
       "      <td>...</td>\n",
       "    </tr>\n",
       "    <tr>\n",
       "      <th>26802</th>\n",
       "      <td>zxing</td>\n",
       "      <td>20</td>\n",
       "      <td>142339</td>\n",
       "      <td>4</td>\n",
       "    </tr>\n",
       "    <tr>\n",
       "      <th>26803</th>\n",
       "      <td>zxing-js</td>\n",
       "      <td>2</td>\n",
       "      <td>55545</td>\n",
       "      <td>0</td>\n",
       "    </tr>\n",
       "    <tr>\n",
       "      <th>26804</th>\n",
       "      <td>zxing.net</td>\n",
       "      <td>2</td>\n",
       "      <td>14762</td>\n",
       "      <td>0</td>\n",
       "    </tr>\n",
       "    <tr>\n",
       "      <th>26805</th>\n",
       "      <td>zynq</td>\n",
       "      <td>5</td>\n",
       "      <td>886832</td>\n",
       "      <td>0</td>\n",
       "    </tr>\n",
       "    <tr>\n",
       "      <th>26806</th>\n",
       "      <td>zypper</td>\n",
       "      <td>3</td>\n",
       "      <td>7976</td>\n",
       "      <td>2</td>\n",
       "    </tr>\n",
       "  </tbody>\n",
       "</table>\n",
       "<p>26807 rows × 4 columns</p>\n",
       "</div>"
      ],
      "text/plain": [
       "               Tag  QuestionsNumber  AverageTime  QuickNumber\n",
       "0               .a                1          273            1\n",
       "1             .app                1          685            1\n",
       "2      .class-file                1         4446            0\n",
       "3            .d.ts                4      1123575            0\n",
       "4             .doc                1        58014            0\n",
       "...            ...              ...          ...          ...\n",
       "26802        zxing               20       142339            4\n",
       "26803     zxing-js                2        55545            0\n",
       "26804    zxing.net                2        14762            0\n",
       "26805         zynq                5       886832            0\n",
       "26806       zypper                3         7976            2\n",
       "\n",
       "[26807 rows x 4 columns]"
      ]
     },
     "execution_count": 66,
     "metadata": {},
     "output_type": "execute_result"
    }
   ],
   "source": [
    "tag_features_df"
   ]
  },
  {
   "cell_type": "code",
   "execution_count": null,
   "metadata": {
    "scrolled": true
   },
   "outputs": [],
   "source": [
    "label_df.info()"
   ]
  },
  {
   "cell_type": "code",
   "execution_count": null,
   "metadata": {},
   "outputs": [],
   "source": [
    "label_df.loc[label_df['TimeDelta'].isnull(), :]"
   ]
  },
  {
   "cell_type": "code",
   "execution_count": null,
   "metadata": {},
   "outputs": [],
   "source": [
    "features_df.info()"
   ]
  }
 ],
 "metadata": {
  "kernelspec": {
   "display_name": "Python 3",
   "language": "python",
   "name": "python3"
  },
  "language_info": {
   "codemirror_mode": {
    "name": "ipython",
    "version": 3
   },
   "file_extension": ".py",
   "mimetype": "text/x-python",
   "name": "python",
   "nbconvert_exporter": "python",
   "pygments_lexer": "ipython3",
   "version": "3.8.5"
  }
 },
 "nbformat": 4,
 "nbformat_minor": 4
}
