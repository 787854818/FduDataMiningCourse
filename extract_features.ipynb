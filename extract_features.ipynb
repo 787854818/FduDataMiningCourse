{
 "cells": [
  {
   "cell_type": "code",
   "execution_count": 1,
   "metadata": {},
   "outputs": [],
   "source": [
    "import pandas as pd\n",
    "\n",
    "import os\n",
    "dataset_path = \"/Users/bruce/Downloads/datasets/so/pastThreeMonth\"\n",
    "\n",
    "filenames = list(os.walk(dataset_path))[0][2]\n",
    "\n",
    "Q_filenames = [name for name in filenames if name[0]==\"Q\"]\n",
    "\n",
    "A_filenames = [name for name in filenames if name[0]==\"A\"]"
   ]
  },
  {
   "cell_type": "markdown",
   "metadata": {},
   "source": [
    "### 读取并拆分数据"
   ]
  },
  {
   "cell_type": "code",
   "execution_count": 2,
   "metadata": {
    "scrolled": true
   },
   "outputs": [
    {
     "name": "stderr",
     "output_type": "stream",
     "text": [
      "/Users/bruce/opt/anaconda3/envs/py38_torch/lib/python3.8/site-packages/IPython/core/interactiveshell.py:3145: DtypeWarning: Columns (10,21) have mixed types.Specify dtype option on import or set low_memory=False.\n",
      "  has_raised = await self.run_ast_nodes(code_ast.body, cell_name,\n"
     ]
    }
   ],
   "source": [
    "q_df = None\n",
    "for i in range(len(Q_filenames)):\n",
    "    qfile_path = os.path.join(dataset_path, Q_filenames[i])\n",
    "    if i==0:\n",
    "        q_df = pd.read_csv(qfile_path)\n",
    "    else:\n",
    "        tmp_df = pd.read_csv(qfile_path)\n",
    "        q_df = pd.concat([q_df, tmp_df])\n",
    "\n",
    "q_df.drop_duplicates(subset=['Id'], keep='first', inplace=True)"
   ]
  },
  {
   "cell_type": "code",
   "execution_count": 3,
   "metadata": {
    "scrolled": false
   },
   "outputs": [
    {
     "name": "stderr",
     "output_type": "stream",
     "text": [
      "/Users/bruce/opt/anaconda3/envs/py38_torch/lib/python3.8/site-packages/IPython/core/interactiveshell.py:3145: DtypeWarning: Columns (12) have mixed types.Specify dtype option on import or set low_memory=False.\n",
      "  has_raised = await self.run_ast_nodes(code_ast.body, cell_name,\n",
      "/Users/bruce/opt/anaconda3/envs/py38_torch/lib/python3.8/site-packages/IPython/core/interactiveshell.py:3145: DtypeWarning: Columns (10,12) have mixed types.Specify dtype option on import or set low_memory=False.\n",
      "  has_raised = await self.run_ast_nodes(code_ast.body, cell_name,\n",
      "/Users/bruce/opt/anaconda3/envs/py38_torch/lib/python3.8/site-packages/IPython/core/interactiveshell.py:3145: DtypeWarning: Columns (10,12,21) have mixed types.Specify dtype option on import or set low_memory=False.\n",
      "  has_raised = await self.run_ast_nodes(code_ast.body, cell_name,\n"
     ]
    }
   ],
   "source": [
    "a_df = None\n",
    "for i in range(len(A_filenames)):\n",
    "    afile_path = os.path.join(dataset_path, A_filenames[i])\n",
    "    if i==0:\n",
    "        a_df = pd.read_csv(afile_path)\n",
    "    else:\n",
    "        tmp_df = pd.read_csv(afile_path)\n",
    "        a_df = pd.concat([a_df, tmp_df])\n",
    "\n",
    "a_df.drop_duplicates(subset=['Id'], keep='first', inplace=True)"
   ]
  },
  {
   "cell_type": "code",
   "execution_count": 4,
   "metadata": {},
   "outputs": [],
   "source": [
    "# 数据中前23列是post，23列之后是user\n",
    "post_columns = a_df.columns[:23]\n",
    "user_columns = a_df.columns[23:]"
   ]
  },
  {
   "cell_type": "code",
   "execution_count": 5,
   "metadata": {},
   "outputs": [],
   "source": [
    "# 将question、answer、user分开\n",
    "u_df = pd.concat([a_df[user_columns], q_df[user_columns]])\n",
    "user_columns = [col for col in user_columns]\n",
    "user_columns[0] = 'Id'\n",
    "user_columns[2] = 'CreationDate'\n",
    "u_df.columns = user_columns\n",
    "a_df = a_df[post_columns]\n",
    "q_df = q_df[post_columns]"
   ]
  },
  {
   "cell_type": "code",
   "execution_count": 6,
   "metadata": {},
   "outputs": [],
   "source": [
    "# 注意，因为数据集的原因， 因为有些问题的答案为空，有可能问题的回答时间在数据集时间范围之外; 有些答案的parentId不在问题id中\n",
    "# 因此要找到a_df和q_df里共有的问题id\n",
    "common_id = pd.merge(left=a_df['ParentId'], right = q_df['Id'], left_on='ParentId', right_on='Id', how='inner')"
   ]
  },
  {
   "cell_type": "code",
   "execution_count": 7,
   "metadata": {},
   "outputs": [],
   "source": [
    "common_id.drop_duplicates(subset=['ParentId'], keep='first', inplace=True)"
   ]
  },
  {
   "cell_type": "code",
   "execution_count": 8,
   "metadata": {},
   "outputs": [],
   "source": [
    "a_df = a_df.loc[a_df['ParentId'].isin(common_id['ParentId']), :]\n",
    "q_df = q_df.loc[q_df['Id'].isin(common_id['Id']), :]"
   ]
  },
  {
   "cell_type": "markdown",
   "metadata": {},
   "source": [
    "### 1. 获取label"
   ]
  },
  {
   "cell_type": "markdown",
   "metadata": {},
   "source": [
    "330350"
   ]
  },
  {
   "cell_type": "code",
   "execution_count": 10,
   "metadata": {},
   "outputs": [],
   "source": [
    "# 使用排序来得到分数越大，时间越早的答案\n",
    "a_df['-Score'] = a_df['Score']*(-1)\n",
    "sort_df = a_df.sort_values(by=['ParentId', '-Score', 'CreationDate']).loc[:,['ParentId','Score', 'CreationDate', 'Id']]"
   ]
  },
  {
   "cell_type": "code",
   "execution_count": 11,
   "metadata": {},
   "outputs": [],
   "source": [
    "# 然后使用df去重，仅保留第一条\n",
    "sort_df.drop_duplicates(subset=['ParentId'], keep='first', inplace=True)"
   ]
  },
  {
   "cell_type": "code",
   "execution_count": 12,
   "metadata": {},
   "outputs": [],
   "source": [
    "a_df.drop(columns=['-Score'], inplace=True)"
   ]
  },
  {
   "cell_type": "code",
   "execution_count": 13,
   "metadata": {},
   "outputs": [],
   "source": [
    "# 拼接\n",
    "qtime_df = q_df.loc[:, ['Id', 'CreationDate']]\n",
    "sort_df = pd.merge(left=sort_df, right=qtime_df, left_on='ParentId', right_on = 'Id', how='inner')"
   ]
  },
  {
   "cell_type": "code",
   "execution_count": 14,
   "metadata": {},
   "outputs": [],
   "source": [
    "# 设置列名\n",
    "sort_df.columns = ['ParentId', 'a_Score', 'a_CreationDate', 'a_Id', 'q_Id', 'q_CreationDate']"
   ]
  },
  {
   "cell_type": "code",
   "execution_count": 15,
   "metadata": {},
   "outputs": [],
   "source": [
    "import time\n",
    "# 将字符串格式时间转换为时间戳\n",
    "def str_to_timestep(s):\n",
    "    timeArray = time.strptime(s.split('.')[0], \"%Y-%m-%d %H:%M:%S\")\n",
    "    timeStamp = int(time.mktime(timeArray))\n",
    "    return timeStamp"
   ]
  },
  {
   "cell_type": "code",
   "execution_count": 16,
   "metadata": {},
   "outputs": [],
   "source": [
    "sort_df['a_CreationDateStamp'] = sort_df['a_CreationDate'].apply(str_to_timestep)\n",
    "sort_df['q_CreationDateStamp'] = sort_df['q_CreationDate'].apply(str_to_timestep)\n",
    "# 计算回答和提问的相隔时间，单位是s\n",
    "sort_df['TimeDelta'] = sort_df['a_CreationDateStamp'] - sort_df['q_CreationDateStamp']"
   ]
  },
  {
   "cell_type": "markdown",
   "metadata": {},
   "source": [
    "#### <font color='blue'>获得了label，包含问题的id，答案的id， 时间间隔</font>"
   ]
  },
  {
   "cell_type": "code",
   "execution_count": 17,
   "metadata": {},
   "outputs": [],
   "source": [
    "label_df = sort_df.loc[:, ['q_Id', 'a_Id', 'TimeDelta']]\n",
    "del sort_df"
   ]
  },
  {
   "cell_type": "code",
   "execution_count": 18,
   "metadata": {},
   "outputs": [
    {
     "name": "stdout",
     "output_type": "stream",
     "text": [
      "<class 'pandas.core.frame.DataFrame'>\n",
      "Int64Index: 327349 entries, 0 to 327348\n",
      "Data columns (total 3 columns):\n",
      " #   Column     Non-Null Count   Dtype\n",
      "---  ------     --------------   -----\n",
      " 0   q_Id       327349 non-null  int64\n",
      " 1   a_Id       327349 non-null  int64\n",
      " 2   TimeDelta  327349 non-null  int64\n",
      "dtypes: int64(3)\n",
      "memory usage: 10.0 MB\n"
     ]
    }
   ],
   "source": [
    "label_df.info()"
   ]
  },
  {
   "cell_type": "markdown",
   "metadata": {},
   "source": [
    "### 2. 存储label、user、answer、question"
   ]
  },
  {
   "cell_type": "code",
   "execution_count": 31,
   "metadata": {},
   "outputs": [],
   "source": [
    "output_path = os.path.join(dataset_path, 'output')"
   ]
  },
  {
   "cell_type": "code",
   "execution_count": null,
   "metadata": {},
   "outputs": [],
   "source": [
    "output_filepath = os.path.join(output_path, 'label.csv')\n",
    "label_df.to_csv(output_filepath)"
   ]
  },
  {
   "cell_type": "code",
   "execution_count": null,
   "metadata": {},
   "outputs": [],
   "source": [
    "user_filepath = os.path.join(output_path, 'user.csv')\n",
    "ans_filepath = os.path.join(output_path, 'answer.csv')\n",
    "ques_filepath = os.path.join(output_path, 'question.csv')\n",
    "\n",
    "u_df.to_csv(user_filepath)\n",
    "a_df.to_csv(ans_filepath)\n",
    "q_df.to_csv(ques_filepath)"
   ]
  },
  {
   "cell_type": "markdown",
   "metadata": {},
   "source": [
    "### 3. 计算基于Tag的特征 "
   ]
  },
  {
   "cell_type": "code",
   "execution_count": 19,
   "metadata": {},
   "outputs": [],
   "source": [
    "def handle_tag(tag):\n",
    "    # 去除尖括号\n",
    "    return tag.replace(\"<\", \" \").replace(\">\", \" \").strip()"
   ]
  },
  {
   "cell_type": "code",
   "execution_count": 20,
   "metadata": {},
   "outputs": [],
   "source": [
    "# 因为数据原因，部分数据没有label，因此将将没有label的数据剔除\n",
    "q_df = label_df.merge(how=\"left\", right = q_df, left_on='q_Id', right_on='Id')\n",
    "\n",
    "q_df.drop(columns=['q_Id', 'a_Id', 'TimeDelta'], inplace=True)"
   ]
  },
  {
   "cell_type": "code",
   "execution_count": 21,
   "metadata": {},
   "outputs": [],
   "source": [
    "# 处理tag\n",
    "q_df[\"Tags\"] = q_df[\"Tags\"].apply(handle_tag)\n",
    "q_df['Tags'] = q_df['Tags'].apply(lambda x: x.split())"
   ]
  },
  {
   "cell_type": "code",
   "execution_count": 22,
   "metadata": {
    "scrolled": true
   },
   "outputs": [
    {
     "name": "stderr",
     "output_type": "stream",
     "text": [
      "100%|██████████| 327349/327349 [02:14<00:00, 2434.56it/s]\n"
     ]
    }
   ],
   "source": [
    "# tag和question之间的关系\n",
    "from tqdm import trange\n",
    "\n",
    "tag_questions = []\n",
    "q_num = q_df.shape[0]\n",
    "for i in trange(q_num):\n",
    "    q_id = q_df.iloc[i]['Id']\n",
    "    tags = q_df.iloc[i]['Tags']\n",
    "    for t in tags:\n",
    "        tag_questions.append([t, q_id])"
   ]
  },
  {
   "cell_type": "markdown",
   "metadata": {},
   "source": [
    "#### <font color='blue'>(1)获得tag的流行度</font>"
   ]
  },
  {
   "cell_type": "markdown",
   "metadata": {},
   "source": [
    "tag和question对应的dataframe"
   ]
  },
  {
   "cell_type": "code",
   "execution_count": 23,
   "metadata": {},
   "outputs": [],
   "source": [
    "tag_ques_df = pd.DataFrame(tag_questions)\n",
    "\n",
    "tag_ques_df.columns=['Tag', 'q_Id']\n",
    "\n",
    "tag_features_df = tag_ques_df.groupby('Tag').size().reset_index(name='QuestionsNumber').sort_values(by=['Tag'])"
   ]
  },
  {
   "cell_type": "markdown",
   "metadata": {},
   "source": [
    "跟label拼接，得到tag、question、time对应关系"
   ]
  },
  {
   "cell_type": "code",
   "execution_count": 24,
   "metadata": {},
   "outputs": [],
   "source": [
    "tag_ques_time_df = pd.merge(left = tag_ques_df, right = label_df,left_on=tag_ques_df.q_Id, right_on=label_df.q_Id)"
   ]
  },
  {
   "cell_type": "code",
   "execution_count": 25,
   "metadata": {
    "scrolled": false
   },
   "outputs": [],
   "source": [
    "threshold = 60*60  # 一小时\n",
    "tag_ques_time_df['WhetherQuick60'] = tag_ques_time_df['TimeDelta']<threshold\n",
    "tag_ques_time_df['WhetherQuick60'] = tag_ques_time_df['WhetherQuick60'].astype('float')"
   ]
  },
  {
   "cell_type": "code",
   "execution_count": 26,
   "metadata": {},
   "outputs": [],
   "source": [
    "threshold2 = 16*60  # 16分钟\n",
    "tag_ques_time_df['WhetherQuick16'] = tag_ques_time_df['TimeDelta']<threshold2\n",
    "tag_ques_time_df['WhetherQuick16'] = tag_ques_time_df['WhetherQuick16'].astype('float')"
   ]
  },
  {
   "cell_type": "code",
   "execution_count": 27,
   "metadata": {},
   "outputs": [],
   "source": [
    "# 每个tag下平均响应时间\n",
    "tag_time_df = tag_ques_time_df.groupby('Tag')['TimeDelta'].mean().reset_index(name='AverageTime'\\\n",
    "                                                                             ).sort_values(by=['Tag'])\n",
    "# 每个tag下得到快速响应的问题个数(分为16分钟和60分钟)\n",
    "tag_quick16_df = tag_ques_time_df.groupby('Tag')['WhetherQuick16'].sum().reset_index(name='QuickNumber16'\\\n",
    "                                                                                ).sort_values(by=['Tag'])\n",
    "tag_quick60_df = tag_ques_time_df.groupby('Tag')['WhetherQuick60'].sum().reset_index(name='QuickNumber60'\\\n",
    "                                                                                ).sort_values(by=['Tag'])"
   ]
  },
  {
   "cell_type": "markdown",
   "metadata": {},
   "source": [
    "#### <font color='blue'>(2)获得tag的平均响应时间、快速个数</font>"
   ]
  },
  {
   "cell_type": "code",
   "execution_count": 28,
   "metadata": {},
   "outputs": [],
   "source": [
    "tag_features_df['AverageTime'] = tag_time_df['AverageTime'].astype(int)\n",
    "tag_features_df['QuickNumber16'] = tag_quick16_df['QuickNumber16'].astype(int)\n",
    "tag_features_df['QuickNumber60'] = tag_quick60_df['QuickNumber60'].astype(int)"
   ]
  },
  {
   "cell_type": "code",
   "execution_count": 29,
   "metadata": {},
   "outputs": [],
   "source": [
    "del tag_time_df;\n",
    "del tag_quick16_df;\n",
    "del tag_quick60_df;"
   ]
  },
  {
   "cell_type": "code",
   "execution_count": null,
   "metadata": {
    "scrolled": true
   },
   "outputs": [],
   "source": [
    "tag_features_df.info()"
   ]
  },
  {
   "cell_type": "code",
   "execution_count": null,
   "metadata": {},
   "outputs": [],
   "source": [
    "# tag_features_df['QuickNumber']=tag_features_df['QuickNumber'].fillna(0)\n",
    "# tag_features_df['AverageTime']=tag_features_df['AverageTime'].fillna(tag_features_df['AverageTime'].median())"
   ]
  },
  {
   "cell_type": "markdown",
   "metadata": {},
   "source": [
    "#### (3)存储tag具有的属性"
   ]
  },
  {
   "cell_type": "code",
   "execution_count": null,
   "metadata": {},
   "outputs": [],
   "source": [
    "tag_features_filepath = os.path.join(output_path, 'tag_feature.csv')\n",
    "tag_features_df.to_csv(tag_features_filepath)"
   ]
  },
  {
   "cell_type": "markdown",
   "metadata": {},
   "source": [
    "#### (4) 通过tag属性来计算question的tag-based属性 "
   ]
  },
  {
   "cell_type": "code",
   "execution_count": 32,
   "metadata": {},
   "outputs": [],
   "source": [
    "tmp_df = pd.merge(left = tag_ques_df, right = tag_features_df, left_on = 'Tag', right_on = 'Tag')"
   ]
  },
  {
   "cell_type": "code",
   "execution_count": 33,
   "metadata": {},
   "outputs": [],
   "source": [
    "tag_popularity = tmp_df.groupby('q_Id')['QuestionsNumber'\\\n",
    "                                       ].sum().reset_index(name='TagPopularity').sort_values(by=['q_Id'])"
   ]
  },
  {
   "cell_type": "code",
   "execution_count": 34,
   "metadata": {},
   "outputs": [],
   "source": [
    "tag_averageTime = tmp_df.groupby('q_Id')['AverageTime'\\\n",
    "                                        ].mean().reset_index(name='TagAverageTime').sort_values(by=['q_Id'])"
   ]
  },
  {
   "cell_type": "code",
   "execution_count": 35,
   "metadata": {},
   "outputs": [],
   "source": [
    "tag_averageQuick16 = tmp_df.groupby('q_Id')['QuickNumber16'\\\n",
    "                                        ].mean().reset_index(name='TagAverageQuick').sort_values(by=['q_Id'])\n",
    "tag_averageQuick60 = tmp_df.groupby('q_Id')['QuickNumber60'\\\n",
    "                                        ].mean().reset_index(name='TagAverageQuick').sort_values(by=['q_Id'])"
   ]
  },
  {
   "cell_type": "code",
   "execution_count": 36,
   "metadata": {},
   "outputs": [],
   "source": [
    "tag_based_features = tag_popularity\n",
    "tag_based_features['TagAverageTime'] = tag_averageTime['TagAverageTime']\n",
    "tag_based_features['TagAverageQuick16'] = tag_averageQuick16['TagAverageQuick']\n",
    "tag_based_features['TagAverageQuick60'] = tag_averageQuick60['TagAverageQuick']"
   ]
  },
  {
   "cell_type": "markdown",
   "metadata": {},
   "source": [
    "#### (5)存储tag-based的属性 "
   ]
  },
  {
   "cell_type": "code",
   "execution_count": null,
   "metadata": {},
   "outputs": [],
   "source": [
    "tag_based_features_filepath = os.path.join(output_path, 'tag_based_feature.csv')\n",
    "tag_based_features.to_csv(tag_based_features_filepath)"
   ]
  },
  {
   "cell_type": "markdown",
   "metadata": {},
   "source": [
    "### 3. 计算不基于Tag的特征, 即问题本身的特征"
   ]
  },
  {
   "cell_type": "code",
   "execution_count": 37,
   "metadata": {},
   "outputs": [],
   "source": [
    "self_features = pd.DataFrame()"
   ]
  },
  {
   "cell_type": "code",
   "execution_count": 38,
   "metadata": {},
   "outputs": [],
   "source": [
    "self_features['Id'] = q_df['Id']"
   ]
  },
  {
   "cell_type": "code",
   "execution_count": 39,
   "metadata": {},
   "outputs": [],
   "source": [
    "self_features['num_code_snippet'] = 0\n",
    "self_features['code_len'] = 0\n",
    "self_features['num_image'] = 0\n",
    "self_features['body_len'] = 0\n",
    "self_features['title_len'] = 0\n",
    "self_features['end_que_mark'] = 0\n",
    "self_features['begin_que_word'] = 0\n",
    "self_features['is_weekend'] = 0"
   ]
  },
  {
   "cell_type": "markdown",
   "metadata": {},
   "source": [
    "#### (1) 通过问题的Body、Title、CreationDate来获得question自身的特征"
   ]
  },
  {
   "cell_type": "code",
   "execution_count": 40,
   "metadata": {},
   "outputs": [],
   "source": [
    "import re\n",
    "from datetime import datetime\n",
    "\n",
    "code_pattern = re.compile(r\"<code>(.*?)</code>\", flags=re.DOTALL)\n",
    "img_pattern = re.compile(r\"<img(.*?)>\", flags=re.DOTALL)\n",
    "\n",
    "def get_num_code_snippet(s):\n",
    "    res = code_pattern.findall(s)\n",
    "    return len(res)\n",
    "\n",
    "def get_code_len(s):\n",
    "    res = code_pattern.findall(s)\n",
    "    code_len = sum([len(code) for code in res])\n",
    "    return code_len\n",
    "\n",
    "def get_num_img(s):\n",
    "    res = img_pattern.findall(s)\n",
    "    return len(res)\n",
    "\n",
    "def get_body_len(s):\n",
    "    return len(s)\n",
    "\n",
    "def get_title_len(s):\n",
    "    return len(s)\n",
    "\n",
    "def get_end_que_mark(s):\n",
    "    s = s.strip()\n",
    "    return len(s)!=0 and s[-1] == '?'\n",
    "\n",
    "def get_begin_que_word(s):\n",
    "    s = s.strip().lower()\n",
    "    return len(s)!=0 and (s.startswith('wh') or s.startswith('how'))\n",
    "\n",
    "def get_is_weekend(s):\n",
    "    date_time_obj = datetime.strptime(s, '%Y-%m-%d %H:%M:%S')\n",
    "    return date_time_obj.weekday()>=5    # 周一是0，周二是1，... , 周日是6"
   ]
  },
  {
   "cell_type": "code",
   "execution_count": 41,
   "metadata": {
    "scrolled": true
   },
   "outputs": [
    {
     "name": "stderr",
     "output_type": "stream",
     "text": [
      "/Users/bruce/opt/anaconda3/envs/py38_torch/lib/python3.8/site-packages/tqdm/std.py:670: FutureWarning: The Panel class is removed from pandas. Accessing it from the top-level namespace will also be removed in the next version\n",
      "  from pandas import Panel\n",
      "100%|██████████| 327349/327349 [00:10<00:00, 32123.96it/s]\n",
      "100%|██████████| 327349/327349 [00:09<00:00, 33522.49it/s]\n",
      "100%|██████████| 327349/327349 [00:01<00:00, 226075.08it/s]\n",
      "100%|██████████| 327349/327349 [00:00<00:00, 507944.62it/s]\n",
      "100%|██████████| 327349/327349 [00:00<00:00, 542085.29it/s]\n",
      "100%|██████████| 327349/327349 [00:00<00:00, 523488.81it/s]\n",
      "100%|██████████| 327349/327349 [00:00<00:00, 412875.83it/s]\n",
      "100%|██████████| 327349/327349 [00:05<00:00, 62042.74it/s]\n"
     ]
    }
   ],
   "source": [
    "from tqdm import tqdm\n",
    "\n",
    "tqdm.pandas()\n",
    "\n",
    "self_features['num_code_snippet'] = q_df['Body'].progress_apply(get_num_code_snippet)\n",
    "self_features['code_len'] = q_df['Body'].progress_apply(get_code_len)\n",
    "self_features['num_image'] = q_df['Body'].progress_apply(get_num_img)\n",
    "self_features['body_len'] = q_df['Body'].progress_apply(get_body_len)\n",
    "self_features['title_len'] = q_df['Title'].progress_apply(get_title_len)\n",
    "self_features['end_que_mark'] = q_df['Title'].progress_apply(get_end_que_mark)\n",
    "self_features['begin_que_word'] = q_df['Title'].progress_apply(get_begin_que_word)\n",
    "self_features['is_weekend'] = q_df['CreationDate'].progress_apply(get_is_weekend)"
   ]
  },
  {
   "cell_type": "markdown",
   "metadata": {},
   "source": [
    "#### (2) 存储问题自身特征"
   ]
  },
  {
   "cell_type": "code",
   "execution_count": null,
   "metadata": {
    "scrolled": true
   },
   "outputs": [],
   "source": [
    "self_features_filepath = os.path.join(output_path, 'self_feature.csv')\n",
    "self_features.to_csv(self_features_filepath)"
   ]
  },
  {
   "cell_type": "markdown",
   "metadata": {},
   "source": [
    "#### (3) 将问题self和tag based的特征合并起来进行存储"
   ]
  },
  {
   "cell_type": "code",
   "execution_count": 42,
   "metadata": {},
   "outputs": [],
   "source": [
    "self_and_tag_features = pd.merge(left=self_features, right=tag_based_features, left_on='Id', right_on='q_Id')"
   ]
  },
  {
   "cell_type": "code",
   "execution_count": 43,
   "metadata": {},
   "outputs": [],
   "source": [
    "self_and_tag_features.drop(columns=['q_Id'], inplace=True)"
   ]
  },
  {
   "cell_type": "code",
   "execution_count": 44,
   "metadata": {},
   "outputs": [],
   "source": [
    "self_and_tag_features['end_que_mark'] = self_and_tag_features['end_que_mark'].astype(int)\n",
    "self_and_tag_features['begin_que_word'] = self_and_tag_features['begin_que_word'].astype(int)\n",
    "self_and_tag_features['is_weekend'] = self_and_tag_features['is_weekend'].astype(int)"
   ]
  },
  {
   "cell_type": "code",
   "execution_count": null,
   "metadata": {},
   "outputs": [],
   "source": [
    "features_df = self_and_tag_features\n",
    "features_filepath = os.path.join(output_path, 'feature.csv')\n",
    "features_df.to_csv(features_filepath)"
   ]
  },
  {
   "cell_type": "code",
   "execution_count": null,
   "metadata": {},
   "outputs": [],
   "source": []
  },
  {
   "cell_type": "code",
   "execution_count": null,
   "metadata": {},
   "outputs": [],
   "source": []
  },
  {
   "cell_type": "markdown",
   "metadata": {},
   "source": [
    "## 最后提取得到features和label"
   ]
  },
  {
   "cell_type": "code",
   "execution_count": null,
   "metadata": {
    "scrolled": false
   },
   "outputs": [],
   "source": [
    "(label_df[\"q_Id\"].sort_values() == features_df[\"Id\"].sort_values()).sum()"
   ]
  },
  {
   "cell_type": "code",
   "execution_count": null,
   "metadata": {},
   "outputs": [],
   "source": [
    "data = pd.merge(left=features_df, right=label_df, left_on='Id', right_on='q_Id')"
   ]
  },
  {
   "cell_type": "code",
   "execution_count": null,
   "metadata": {},
   "outputs": [],
   "source": [
    "data.drop(columns=['q_Id', 'a_Id'], inplace=True)"
   ]
  },
  {
   "cell_type": "code",
   "execution_count": null,
   "metadata": {},
   "outputs": [],
   "source": [
    "data_filepath = os.path.join(output_path, 'data.csv')\n",
    "data.to_csv(data_filepath)"
   ]
  }
 ],
 "metadata": {
  "kernelspec": {
   "display_name": "Python 3",
   "language": "python",
   "name": "python3"
  },
  "language_info": {
   "codemirror_mode": {
    "name": "ipython",
    "version": 3
   },
   "file_extension": ".py",
   "mimetype": "text/x-python",
   "name": "python",
   "nbconvert_exporter": "python",
   "pygments_lexer": "ipython3",
   "version": "3.8.5"
  }
 },
 "nbformat": 4,
 "nbformat_minor": 4
}
