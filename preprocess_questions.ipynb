{
 "cells": [
  {
   "cell_type": "markdown",
   "metadata": {},
   "source": [
    "# Question 数据预处理 "
   ]
  },
  {
   "cell_type": "markdown",
   "metadata": {},
   "source": [
    "## 1. 读取数据\n",
    "\n",
    "使用的是20000条样例数据，每条记录代表一个question，这些question的标签中都包含python"
   ]
  },
  {
   "cell_type": "code",
   "execution_count": 1,
   "metadata": {},
   "outputs": [],
   "source": [
    "import pandas as pd"
   ]
  },
  {
   "cell_type": "code",
   "execution_count": 2,
   "metadata": {},
   "outputs": [],
   "source": [
    "# df_list = []\n",
    "# for i in range(1, 5):\n",
    "#     df = pd.read_csv('./dataset/toy_dataset/QueryResults{}.csv'.format(i))\n",
    "#     df_list.append(df)\n",
    "# question_df = pd.concat(df_list)\n",
    "# question_df = question_df.iloc[:100, ]"
   ]
  },
  {
   "cell_type": "code",
   "execution_count": 3,
   "metadata": {},
   "outputs": [],
   "source": [
    "question_df = pd.read_csv('./dataset/toy_dataset/example100.csv')"
   ]
  },
  {
   "cell_type": "markdown",
   "metadata": {},
   "source": [
    "**question的基本信息：** 可以看见，一共有23个属性，其中有三个属性全为空(ParentId, DeletionDate, CommunityOwnedDate)，我们将这三个属性直接舍去，剩下的属性有：\n",
    "1. Id：question的id\n",
    "2. PostTypeId：该post的类型，取值为1代表这个post是一条question，因为收集的全是问题，因此全都是1\n",
    "3. AcceptedAnswerId：该问题如果具有最佳答案，则会记录下最佳答案的id\n",
    "4. CreationDate：问题创建的时间\n",
    "5. Score：问题的打分\n",
    "6. ViewCount：问题的浏览量\n",
    "7. Body：问题的主体部分，用html格式给出\n",
    "8. OwnerUserId：问题持有者的id\n",
    "9. OwnerDisplayName：问题持有者的name\n",
    "10. LastEditorUserId：最后编辑问题的用户的id\n",
    "11. LastEditorDisplayName：最后编辑问题的用户的name\n",
    "12. LastEditDate：问题最后被编辑的日期\n",
    "13. LastActivityDate：问题最后活跃的时间\n",
    "14. Title：问题的标题\n",
    "15. Tags：问题的标签\n",
    "16. AnswerCount：问题的回答数\n",
    "17. CommentCount：问题的评论数量\n",
    "18. FavoriteCount：收藏数\n",
    "19. ClosedDate：问题关闭时间\n",
    "20. ContentLicense：license"
   ]
  },
  {
   "cell_type": "code",
   "execution_count": 4,
   "metadata": {},
   "outputs": [
    {
     "name": "stdout",
     "output_type": "stream",
     "text": [
      "<class 'pandas.core.frame.DataFrame'>\n",
      "RangeIndex: 100 entries, 0 to 99\n",
      "Data columns (total 23 columns):\n",
      " #   Column                 Non-Null Count  Dtype  \n",
      "---  ------                 --------------  -----  \n",
      " 0   Id                     100 non-null    int64  \n",
      " 1   PostTypeId             100 non-null    int64  \n",
      " 2   AcceptedAnswerId       10 non-null     float64\n",
      " 3   ParentId               0 non-null      float64\n",
      " 4   CreationDate           100 non-null    object \n",
      " 5   DeletionDate           0 non-null      float64\n",
      " 6   Score                  100 non-null    int64  \n",
      " 7   ViewCount              100 non-null    int64  \n",
      " 8   Body                   100 non-null    object \n",
      " 9   OwnerUserId            100 non-null    float64\n",
      " 10  OwnerDisplayName       0 non-null      float64\n",
      " 11  LastEditorUserId       28 non-null     float64\n",
      " 12  LastEditorDisplayName  0 non-null      float64\n",
      " 13  LastEditDate           28 non-null     object \n",
      " 14  LastActivityDate       100 non-null    object \n",
      " 15  Title                  100 non-null    object \n",
      " 16  Tags                   100 non-null    object \n",
      " 17  AnswerCount            100 non-null    int64  \n",
      " 18  CommentCount           100 non-null    int64  \n",
      " 19  FavoriteCount          3 non-null      float64\n",
      " 20  ClosedDate             8 non-null      object \n",
      " 21  CommunityOwnedDate     0 non-null      float64\n",
      " 22  ContentLicense         100 non-null    object \n",
      "dtypes: float64(9), int64(6), object(8)\n",
      "memory usage: 18.1+ KB\n"
     ]
    }
   ],
   "source": [
    "question_df.info()"
   ]
  },
  {
   "cell_type": "code",
   "execution_count": 5,
   "metadata": {},
   "outputs": [
    {
     "data": {
      "text/html": [
       "<div>\n",
       "<style scoped>\n",
       "    .dataframe tbody tr th:only-of-type {\n",
       "        vertical-align: middle;\n",
       "    }\n",
       "\n",
       "    .dataframe tbody tr th {\n",
       "        vertical-align: top;\n",
       "    }\n",
       "\n",
       "    .dataframe thead th {\n",
       "        text-align: right;\n",
       "    }\n",
       "</style>\n",
       "<table border=\"1\" class=\"dataframe\">\n",
       "  <thead>\n",
       "    <tr style=\"text-align: right;\">\n",
       "      <th></th>\n",
       "      <th>Id</th>\n",
       "      <th>PostTypeId</th>\n",
       "      <th>AcceptedAnswerId</th>\n",
       "      <th>ParentId</th>\n",
       "      <th>CreationDate</th>\n",
       "      <th>DeletionDate</th>\n",
       "      <th>Score</th>\n",
       "      <th>ViewCount</th>\n",
       "      <th>Body</th>\n",
       "      <th>OwnerUserId</th>\n",
       "      <th>...</th>\n",
       "      <th>LastEditDate</th>\n",
       "      <th>LastActivityDate</th>\n",
       "      <th>Title</th>\n",
       "      <th>Tags</th>\n",
       "      <th>AnswerCount</th>\n",
       "      <th>CommentCount</th>\n",
       "      <th>FavoriteCount</th>\n",
       "      <th>ClosedDate</th>\n",
       "      <th>CommunityOwnedDate</th>\n",
       "      <th>ContentLicense</th>\n",
       "    </tr>\n",
       "  </thead>\n",
       "  <tbody>\n",
       "    <tr>\n",
       "      <th>97</th>\n",
       "      <td>64840429</td>\n",
       "      <td>1</td>\n",
       "      <td>NaN</td>\n",
       "      <td>NaN</td>\n",
       "      <td>2020-11-15 01:34:28</td>\n",
       "      <td>NaN</td>\n",
       "      <td>0</td>\n",
       "      <td>13</td>\n",
       "      <td>&lt;p&gt;So this may sound like a dumb question but ...</td>\n",
       "      <td>12349163.0</td>\n",
       "      <td>...</td>\n",
       "      <td>2020-11-15 03:30:26</td>\n",
       "      <td>2020-11-15 03:30:26</td>\n",
       "      <td>What actually happens when you index using who...</td>\n",
       "      <td>&lt;python&gt;&lt;sqlalchemy&gt;&lt;whoosh&gt;</td>\n",
       "      <td>0</td>\n",
       "      <td>0</td>\n",
       "      <td>NaN</td>\n",
       "      <td>NaN</td>\n",
       "      <td>NaN</td>\n",
       "      <td>CC BY-SA 4.0</td>\n",
       "    </tr>\n",
       "    <tr>\n",
       "      <th>98</th>\n",
       "      <td>64840419</td>\n",
       "      <td>1</td>\n",
       "      <td>NaN</td>\n",
       "      <td>NaN</td>\n",
       "      <td>2020-11-15 01:31:33</td>\n",
       "      <td>NaN</td>\n",
       "      <td>-3</td>\n",
       "      <td>10</td>\n",
       "      <td>&lt;p&gt;I doing mobile voice assistant and i need s...</td>\n",
       "      <td>14267016.0</td>\n",
       "      <td>...</td>\n",
       "      <td>NaN</td>\n",
       "      <td>2020-11-15 01:31:33</td>\n",
       "      <td>How to make server for mobile app using Python...</td>\n",
       "      <td>&lt;python&gt;&lt;django&gt;&lt;mobile-application&gt;</td>\n",
       "      <td>0</td>\n",
       "      <td>1</td>\n",
       "      <td>NaN</td>\n",
       "      <td>NaN</td>\n",
       "      <td>NaN</td>\n",
       "      <td>CC BY-SA 4.0</td>\n",
       "    </tr>\n",
       "    <tr>\n",
       "      <th>99</th>\n",
       "      <td>64840409</td>\n",
       "      <td>1</td>\n",
       "      <td>NaN</td>\n",
       "      <td>NaN</td>\n",
       "      <td>2020-11-15 01:29:12</td>\n",
       "      <td>NaN</td>\n",
       "      <td>-2</td>\n",
       "      <td>17</td>\n",
       "      <td>&lt;p&gt;The final grade is calculated by rounding t...</td>\n",
       "      <td>14597782.0</td>\n",
       "      <td>...</td>\n",
       "      <td>NaN</td>\n",
       "      <td>2020-11-15 01:35:37</td>\n",
       "      <td>how to round numbers in python based on 2 vari...</td>\n",
       "      <td>&lt;python&gt;</td>\n",
       "      <td>1</td>\n",
       "      <td>1</td>\n",
       "      <td>NaN</td>\n",
       "      <td>NaN</td>\n",
       "      <td>NaN</td>\n",
       "      <td>CC BY-SA 4.0</td>\n",
       "    </tr>\n",
       "  </tbody>\n",
       "</table>\n",
       "<p>3 rows × 23 columns</p>\n",
       "</div>"
      ],
      "text/plain": [
       "          Id  PostTypeId  AcceptedAnswerId  ParentId         CreationDate  \\\n",
       "97  64840429           1               NaN       NaN  2020-11-15 01:34:28   \n",
       "98  64840419           1               NaN       NaN  2020-11-15 01:31:33   \n",
       "99  64840409           1               NaN       NaN  2020-11-15 01:29:12   \n",
       "\n",
       "    DeletionDate  Score  ViewCount  \\\n",
       "97           NaN      0         13   \n",
       "98           NaN     -3         10   \n",
       "99           NaN     -2         17   \n",
       "\n",
       "                                                 Body  OwnerUserId  ...  \\\n",
       "97  <p>So this may sound like a dumb question but ...   12349163.0  ...   \n",
       "98  <p>I doing mobile voice assistant and i need s...   14267016.0  ...   \n",
       "99  <p>The final grade is calculated by rounding t...   14597782.0  ...   \n",
       "\n",
       "           LastEditDate     LastActivityDate  \\\n",
       "97  2020-11-15 03:30:26  2020-11-15 03:30:26   \n",
       "98                  NaN  2020-11-15 01:31:33   \n",
       "99                  NaN  2020-11-15 01:35:37   \n",
       "\n",
       "                                                Title  \\\n",
       "97  What actually happens when you index using who...   \n",
       "98  How to make server for mobile app using Python...   \n",
       "99  how to round numbers in python based on 2 vari...   \n",
       "\n",
       "                                    Tags AnswerCount CommentCount  \\\n",
       "97          <python><sqlalchemy><whoosh>           0            0   \n",
       "98  <python><django><mobile-application>           0            1   \n",
       "99                              <python>           1            1   \n",
       "\n",
       "   FavoriteCount  ClosedDate  CommunityOwnedDate  ContentLicense  \n",
       "97           NaN         NaN                 NaN    CC BY-SA 4.0  \n",
       "98           NaN         NaN                 NaN    CC BY-SA 4.0  \n",
       "99           NaN         NaN                 NaN    CC BY-SA 4.0  \n",
       "\n",
       "[3 rows x 23 columns]"
      ]
     },
     "execution_count": 5,
     "metadata": {},
     "output_type": "execute_result"
    }
   ],
   "source": [
    "question_df.tail(3)"
   ]
  },
  {
   "cell_type": "markdown",
   "metadata": {},
   "source": [
    "## 2. 数据处理"
   ]
  },
  {
   "cell_type": "markdown",
   "metadata": {},
   "source": [
    "### 2.1 处理非文本数据\n",
    "---"
   ]
  },
  {
   "cell_type": "markdown",
   "metadata": {},
   "source": [
    "**LastEditDate 转换成是否被编辑过**"
   ]
  },
  {
   "cell_type": "code",
   "execution_count": 6,
   "metadata": {},
   "outputs": [],
   "source": [
    "question_df['Editted'] = question_df['LastEditDate'].isnull().astype('int')"
   ]
  },
  {
   "cell_type": "markdown",
   "metadata": {},
   "source": [
    "**AcceptedAnswerId 转换成是否具有最佳答案**"
   ]
  },
  {
   "cell_type": "code",
   "execution_count": 7,
   "metadata": {},
   "outputs": [],
   "source": [
    "question_df['OwnAcceptedAnswer'] = question_df['AcceptedAnswerId'].isnull().astype('int')"
   ]
  },
  {
   "cell_type": "markdown",
   "metadata": {},
   "source": [
    "**ClosedDate 转换成是否被关闭**"
   ]
  },
  {
   "cell_type": "code",
   "execution_count": 8,
   "metadata": {},
   "outputs": [],
   "source": [
    "question_df['Closed'] = question_df['ClosedDate'].isnull().astype('int')"
   ]
  },
  {
   "cell_type": "markdown",
   "metadata": {},
   "source": [
    "**FavoriteCount  要用0填补空缺值**"
   ]
  },
  {
   "cell_type": "code",
   "execution_count": 9,
   "metadata": {},
   "outputs": [],
   "source": [
    "question_df['FavoriteCount'] = question_df['FavoriteCount'].fillna(0.0).astype('int')"
   ]
  },
  {
   "cell_type": "markdown",
   "metadata": {},
   "source": [
    "**CreationDate, LastActivityDate转成时间戳**"
   ]
  },
  {
   "cell_type": "code",
   "execution_count": 10,
   "metadata": {},
   "outputs": [],
   "source": [
    "import time\n",
    "# 将字符串格式时间转换为时间戳\n",
    "def str_to_timestep(s):\n",
    "    timeArray = time.strptime(s.split('.')[0], \"%Y-%m-%d %H:%M:%S\")\n",
    "    timeStamp = int(time.mktime(timeArray))\n",
    "    return timeStamp"
   ]
  },
  {
   "cell_type": "code",
   "execution_count": 11,
   "metadata": {},
   "outputs": [],
   "source": [
    "time_cols = ['CreationDate', 'LastActivityDate']\n",
    "for col in time_cols:\n",
    "    question_df[col] = question_df[col].apply(str_to_timestep)"
   ]
  },
  {
   "cell_type": "code",
   "execution_count": 12,
   "metadata": {},
   "outputs": [
    {
     "data": {
      "text/html": [
       "<div>\n",
       "<style scoped>\n",
       "    .dataframe tbody tr th:only-of-type {\n",
       "        vertical-align: middle;\n",
       "    }\n",
       "\n",
       "    .dataframe tbody tr th {\n",
       "        vertical-align: top;\n",
       "    }\n",
       "\n",
       "    .dataframe thead th {\n",
       "        text-align: right;\n",
       "    }\n",
       "</style>\n",
       "<table border=\"1\" class=\"dataframe\">\n",
       "  <thead>\n",
       "    <tr style=\"text-align: right;\">\n",
       "      <th></th>\n",
       "      <th>CreationDate</th>\n",
       "      <th>LastActivityDate</th>\n",
       "    </tr>\n",
       "  </thead>\n",
       "  <tbody>\n",
       "    <tr>\n",
       "      <th>0</th>\n",
       "      <td>1605387954</td>\n",
       "      <td>1605387954</td>\n",
       "    </tr>\n",
       "    <tr>\n",
       "      <th>1</th>\n",
       "      <td>1605387867</td>\n",
       "      <td>1605387867</td>\n",
       "    </tr>\n",
       "    <tr>\n",
       "      <th>2</th>\n",
       "      <td>1605387659</td>\n",
       "      <td>1605387659</td>\n",
       "    </tr>\n",
       "    <tr>\n",
       "      <th>3</th>\n",
       "      <td>1605387464</td>\n",
       "      <td>1605387954</td>\n",
       "    </tr>\n",
       "    <tr>\n",
       "      <th>4</th>\n",
       "      <td>1605387360</td>\n",
       "      <td>1605387360</td>\n",
       "    </tr>\n",
       "    <tr>\n",
       "      <th>...</th>\n",
       "      <td>...</td>\n",
       "      <td>...</td>\n",
       "    </tr>\n",
       "    <tr>\n",
       "      <th>95</th>\n",
       "      <td>1605375461</td>\n",
       "      <td>1605379162</td>\n",
       "    </tr>\n",
       "    <tr>\n",
       "      <th>96</th>\n",
       "      <td>1605375437</td>\n",
       "      <td>1605379057</td>\n",
       "    </tr>\n",
       "    <tr>\n",
       "      <th>97</th>\n",
       "      <td>1605375268</td>\n",
       "      <td>1605382226</td>\n",
       "    </tr>\n",
       "    <tr>\n",
       "      <th>98</th>\n",
       "      <td>1605375093</td>\n",
       "      <td>1605375093</td>\n",
       "    </tr>\n",
       "    <tr>\n",
       "      <th>99</th>\n",
       "      <td>1605374952</td>\n",
       "      <td>1605375337</td>\n",
       "    </tr>\n",
       "  </tbody>\n",
       "</table>\n",
       "<p>100 rows × 2 columns</p>\n",
       "</div>"
      ],
      "text/plain": [
       "    CreationDate  LastActivityDate\n",
       "0     1605387954        1605387954\n",
       "1     1605387867        1605387867\n",
       "2     1605387659        1605387659\n",
       "3     1605387464        1605387954\n",
       "4     1605387360        1605387360\n",
       "..           ...               ...\n",
       "95    1605375461        1605379162\n",
       "96    1605375437        1605379057\n",
       "97    1605375268        1605382226\n",
       "98    1605375093        1605375093\n",
       "99    1605374952        1605375337\n",
       "\n",
       "[100 rows x 2 columns]"
      ]
     },
     "execution_count": 12,
     "metadata": {},
     "output_type": "execute_result"
    }
   ],
   "source": [
    "question_df[time_cols]"
   ]
  },
  {
   "cell_type": "markdown",
   "metadata": {},
   "source": [
    "**删除无用列**<br>\n",
    "（有的属性可能在后续的任务中是有用的，例如ClosedDate，这个后续可以进行调整）"
   ]
  },
  {
   "cell_type": "code",
   "execution_count": 13,
   "metadata": {},
   "outputs": [],
   "source": [
    "useless_cols = ['DeletionDate', 'PostTypeId', 'AcceptedAnswerId', 'ParentId', 'ContentLicense', 'LastEditorUserId', 'LastEditorDisplayName', 'LastEditDate', 'CommunityOwnedDate', 'ClosedDate', 'OwnerUserId', 'OwnerDisplayName']\n",
    "question_df.drop(columns=useless_cols, inplace=True)"
   ]
  },
  {
   "cell_type": "markdown",
   "metadata": {},
   "source": [
    "还剩下14个列（这里保留了id），然后我们可以发现，除了Body, Title, Tags这三个列的类别为object，表示它们是非数字属性，其余的都已经转为int类型"
   ]
  },
  {
   "cell_type": "code",
   "execution_count": 14,
   "metadata": {
    "scrolled": false
   },
   "outputs": [
    {
     "name": "stdout",
     "output_type": "stream",
     "text": [
      "<class 'pandas.core.frame.DataFrame'>\n",
      "RangeIndex: 100 entries, 0 to 99\n",
      "Data columns (total 14 columns):\n",
      " #   Column             Non-Null Count  Dtype \n",
      "---  ------             --------------  ----- \n",
      " 0   Id                 100 non-null    int64 \n",
      " 1   CreationDate       100 non-null    int64 \n",
      " 2   Score              100 non-null    int64 \n",
      " 3   ViewCount          100 non-null    int64 \n",
      " 4   Body               100 non-null    object\n",
      " 5   LastActivityDate   100 non-null    int64 \n",
      " 6   Title              100 non-null    object\n",
      " 7   Tags               100 non-null    object\n",
      " 8   AnswerCount        100 non-null    int64 \n",
      " 9   CommentCount       100 non-null    int64 \n",
      " 10  FavoriteCount      100 non-null    int64 \n",
      " 11  Editted            100 non-null    int64 \n",
      " 12  OwnAcceptedAnswer  100 non-null    int64 \n",
      " 13  Closed             100 non-null    int64 \n",
      "dtypes: int64(11), object(3)\n",
      "memory usage: 11.1+ KB\n"
     ]
    }
   ],
   "source": [
    "question_df.info()"
   ]
  },
  {
   "cell_type": "markdown",
   "metadata": {},
   "source": [
    "**将数字类型的列进行归一化**<br>\n",
    "注意：Editted，Closed，OwnAcceptedAnswer这三个不需要进行归一化"
   ]
  },
  {
   "cell_type": "code",
   "execution_count": 15,
   "metadata": {},
   "outputs": [],
   "source": [
    "text_cols = ['Body', 'Title', 'Tags']\n",
    "label_cols = ['Editted', 'OwnAcceptedAnswer', 'Closed']\n",
    "ignore_cols = text_cols + label_cols + ['Id']\n",
    "need_scaler_columns = [col for col in question_df.columns if col not in ignore_cols]"
   ]
  },
  {
   "cell_type": "code",
   "execution_count": 16,
   "metadata": {},
   "outputs": [],
   "source": [
    "from sklearn.preprocessing import MinMaxScaler\n",
    "min_max_scaler = MinMaxScaler()\n",
    "question_df[need_scaler_columns] = min_max_scaler.fit_transform(question_df[need_scaler_columns])"
   ]
  },
  {
   "cell_type": "markdown",
   "metadata": {},
   "source": [
    "### 2.2 处理文本数据\n",
    "---"
   ]
  },
  {
   "cell_type": "markdown",
   "metadata": {},
   "source": [
    "#### <font color='blue'>(1) 处理Tags</font>\n",
    "* 整理Tags的格式"
   ]
  },
  {
   "cell_type": "code",
   "execution_count": 17,
   "metadata": {},
   "outputs": [],
   "source": [
    "# question_df[\"Tags\"].head()"
   ]
  },
  {
   "cell_type": "code",
   "execution_count": 18,
   "metadata": {},
   "outputs": [],
   "source": [
    "def handle_tag(tag):\n",
    "    # 去除尖括号\n",
    "    return tag.replace(\"<\", \" \").replace(\">\", \" \").strip()\n",
    "question_df[\"Tags\"] = question_df[\"Tags\"].apply(handle_tag)"
   ]
  },
  {
   "cell_type": "markdown",
   "metadata": {},
   "source": [
    "* 统计一下一共有哪些tag"
   ]
  },
  {
   "cell_type": "code",
   "execution_count": 19,
   "metadata": {},
   "outputs": [],
   "source": [
    "question_df['Tags'] = question_df['Tags'].apply(lambda x: x.split())\n",
    "all_tags = [tag for tag_list in question_df['Tags'].values for tag in tag_list]"
   ]
  },
  {
   "cell_type": "code",
   "execution_count": 20,
   "metadata": {},
   "outputs": [
    {
     "data": {
      "text/plain": [
       "128"
      ]
     },
     "execution_count": 20,
     "metadata": {},
     "output_type": "execute_result"
    }
   ],
   "source": [
    "tmp_set = set(all_tags)\n",
    "unique_tags = list(tmp_set)\n",
    "len(unique_tags)"
   ]
  },
  {
   "cell_type": "code",
   "execution_count": 21,
   "metadata": {},
   "outputs": [],
   "source": [
    "import nltk\n",
    "keywords = nltk.FreqDist(all_tags)  # 统计"
   ]
  },
  {
   "cell_type": "code",
   "execution_count": 22,
   "metadata": {},
   "outputs": [
    {
     "data": {
      "image/png": "[encoded data removed]",
      "text/plain": [
       "<Figure size 1080x720 with 1 Axes>"
      ]
     },
     "metadata": {
      "needs_background": "light"
     },
     "output_type": "display_data"
    },
    {
     "data": {
      "text/plain": [
       "<AxesSubplot:xlabel='Samples', ylabel='Counts'>"
      ]
     },
     "execution_count": 22,
     "metadata": {},
     "output_type": "execute_result"
    }
   ],
   "source": [
    "import matplotlib.pyplot as plt\n",
    "frequencies_words = keywords.most_common(100)  # top 100 最常使用的tag\n",
    "tags_features = [word[0] for word in frequencies_words]\n",
    "fig, ax = plt.subplots(figsize=(15, 10))\n",
    "keywords.plot(100, cumulative=False)"
   ]
  },
  {
   "cell_type": "markdown",
   "metadata": {},
   "source": [
    "#### <font color='blue'>(2) 处理Body</font>"
   ]
  },
  {
   "cell_type": "markdown",
   "metadata": {},
   "source": [
    "* 将Body中的HTML标签去除:<br>\n",
    "    - 先删除code标签以及里面的内容<br>\n",
    "    - 然后使用beautiful soup工具来提取html标签中的文本"
   ]
  },
  {
   "cell_type": "code",
   "execution_count": 23,
   "metadata": {},
   "outputs": [],
   "source": [
    "import re\n",
    "\n",
    "code_pattern = re.compile(r\"<code>.*?</code>\", flags=re.DOTALL)\n",
    "question_df[\"Body\"] = question_df[\"Body\"].apply(lambda x: code_pattern.sub(\" \", x)) "
   ]
  },
  {
   "cell_type": "code",
   "execution_count": 24,
   "metadata": {},
   "outputs": [],
   "source": [
    "from bs4 import BeautifulSoup\n",
    "\n",
    "question_df[\"Body\"] = question_df[\"Body\"].apply(lambda x: BeautifulSoup(x).get_text()) "
   ]
  },
  {
   "cell_type": "markdown",
   "metadata": {},
   "source": [
    "* 大小写转换、缩写替换、无意义字符替换"
   ]
  },
  {
   "cell_type": "code",
   "execution_count": 25,
   "metadata": {},
   "outputs": [],
   "source": [
    "def clean_text(text):\n",
    "    text = text.lower()\n",
    "    text = re.sub(r\"what's\", \"what is \", text)\n",
    "    text = re.sub(r\"\\'s\", \" \", text)\n",
    "    text = re.sub(r\"\\'ve\", \" have \", text)\n",
    "    text = re.sub(r\"can't\", \"can not \", text)\n",
    "    text = re.sub(r\"n't\", \" not \", text)\n",
    "    text = re.sub(r\"i'm\", \"i am \", text)\n",
    "    text = re.sub(r\"\\'re\", \" are \", text)\n",
    "    text = re.sub(r\"\\'d\", \" would \", text)\n",
    "    text = re.sub(r\"\\'ll\", \" will \", text)\n",
    "    text = re.sub(r\"\\'scuse\", \" excuse \", text)\n",
    "    text = re.sub(r\"\\'\\n\", \" \", text)\n",
    "    text = re.sub(r\"\\'\\xa0\", \" \", text)\n",
    "    text = re.sub('\\s+', ' ', text)\n",
    "    text = text.strip(' ')\n",
    "    return text\n",
    "question_df[\"Body\"] = question_df[\"Body\"].apply(lambda x: clean_text(x)) "
   ]
  },
  {
   "cell_type": "markdown",
   "metadata": {},
   "source": [
    "* 处理标点符号"
   ]
  },
  {
   "cell_type": "code",
   "execution_count": 26,
   "metadata": {},
   "outputs": [],
   "source": [
    "from nltk.tokenize import ToktokTokenizer\n",
    "\n",
    "punct = '!\"#$%&\\'()*+,./:;<=>?@[\\\\]^_`{|}~-'\n",
    "\n",
    "def strip_list_noempty(mylist):    # 将文本列表进行按空格拆分\n",
    "    newlist = (item.strip() if hasattr(item, 'strip') else item for item in mylist)\n",
    "    return [item for item in newlist if item != '']\n",
    "\n",
    "token=ToktokTokenizer()\n",
    "# tags_set = tmp_set\n",
    "def clean_punct(text):        # 处理一段文本，处理文本中的标点符号\n",
    "    words=token.tokenize(text)        # 分词\n",
    "    punctuation_filtered = []         # 保存处理后的单词列表\n",
    "    regex = re.compile('[%s]' % re.escape(punct))       # re.escape用于将标点符号转义，让它们仅表示标点符号本身\n",
    "    for w in words:\n",
    "        punctuation_filtered.append(regex.sub('', w))\n",
    "        # if w in tags_set:    # 如果需要，可以保留tag中的标点\n",
    "        #     punctuation_filtered.append(w)\n",
    "        # else:\n",
    "        #     punctuation_filtered.append(regex.sub('', w))\n",
    "  \n",
    "    filtered_list = strip_list_noempty(punctuation_filtered)\n",
    "        \n",
    "    return ' '.join(map(str, filtered_list))\n",
    "\n",
    "\n",
    "question_df[\"Body\"] = question_df[\"Body\"].apply(lambda x: clean_punct(x))"
   ]
  },
  {
   "cell_type": "markdown",
   "metadata": {},
   "source": [
    "* 词型还原、删除停顿词(这里仅先进行词性还原，以防删除停顿词影响句意)"
   ]
  },
  {
   "cell_type": "code",
   "execution_count": 27,
   "metadata": {},
   "outputs": [],
   "source": [
    "from nltk.stem.wordnet import WordNetLemmatizer\n",
    "from nltk.corpus import stopwords\n",
    "\n",
    "lemma=WordNetLemmatizer()     # 词型还原\n",
    "stop_words = set(stopwords.words(\"english\"))  # 删除停顿词\n",
    "\n",
    "def lemitizeWords(text):\n",
    "    words=token.tokenize(text)\n",
    "    listLemma=[]\n",
    "    for w in words:\n",
    "        x=lemma.lemmatize(w, pos=\"v\")\n",
    "        listLemma.append(x)\n",
    "    return ' '.join(map(str, listLemma))\n",
    "\n",
    "def stopWordsRemove(text):\n",
    "    \n",
    "    stop_words = set(stopwords.words(\"english\"))\n",
    "    \n",
    "    words=token.tokenize(text)\n",
    "    \n",
    "    filtered = [w for w in words if not w in stop_words]\n",
    "    \n",
    "    return ' '.join(map(str, filtered))\n",
    "\n",
    "\n",
    "question_df[\"Body\"] = question_df[\"Body\"].apply(lambda x: lemitizeWords(x))\n",
    "\n",
    "# question_df[\"Body\"] = question_df[\"Body\"].apply(lambda x: stopWordsRemove(x))\n"
   ]
  },
  {
   "cell_type": "code",
   "execution_count": 28,
   "metadata": {},
   "outputs": [
    {
     "data": {
      "text/plain": [
       "'i be hit the cpu limit on my vps for my discord bot i be wonder if postgresql benefit to have multiple core do i need to be use multiple connections i be use and asyncpg'"
      ]
     },
     "execution_count": 28,
     "metadata": {},
     "output_type": "execute_result"
    }
   ],
   "source": [
    "# 随机查看一条body，可以看到文本经过处理后的结果\n",
    "import random\n",
    "question_df[\"Body\"].iloc[random.randint(0, question_df.shape[0]-1)]"
   ]
  },
  {
   "cell_type": "markdown",
   "metadata": {},
   "source": [
    "#### <font color='blue'>(3) 处理Title</font>\n",
    "* 与处理body的过程十分类似"
   ]
  },
  {
   "cell_type": "code",
   "execution_count": 29,
   "metadata": {},
   "outputs": [],
   "source": [
    "question_df[\"Title\"] = question_df[\"Title\"].apply(lambda x: str(x))\n",
    "question_df[\"Title\"] = question_df[\"Title\"].apply(lambda x: clean_text(x))\n",
    "question_df[\"Title\"] = question_df[\"Title\"].apply(lambda x: clean_punct(x))\n",
    "question_df[\"Title\"] = question_df[\"Title\"].apply(lambda x: lemitizeWords(x))\n",
    "# question_df[\"Title\"] = question_df[\"Title\"].apply(lambda x: stopWordsRemove(x))"
   ]
  },
  {
   "cell_type": "code",
   "execution_count": 30,
   "metadata": {},
   "outputs": [
    {
     "data": {
      "text/plain": [
       "'pointer workaround in python'"
      ]
     },
     "execution_count": 30,
     "metadata": {},
     "output_type": "execute_result"
    }
   ],
   "source": [
    "# 随机查看一条title，可以看到文本经过处理后的结果\n",
    "import random\n",
    "question_df[\"Title\"].iloc[random.randint(0, question_df.shape[0]-1)]"
   ]
  },
  {
   "cell_type": "markdown",
   "metadata": {},
   "source": [
    "### 2.3 使用Bert模型提取Body、Title中具有的语义信息\n",
    "---"
   ]
  },
  {
   "cell_type": "markdown",
   "metadata": {},
   "source": [
    " #### <font color='blue'>(1) 从HuggingFace中加载预训练模型 </font>"
   ]
  },
  {
   "cell_type": "code",
   "execution_count": 31,
   "metadata": {},
   "outputs": [],
   "source": [
    "from transformers import AutoTokenizer, AutoModel\n",
    "from transformers import DistilBertModel, DistilBertTokenizer\n",
    "\n",
    "# 可以使用更好的模型，但是模型参数量太大，这里使用一个精炼版本的Bert：distilbert\n",
    "# tokenizer = AutoTokenizer.from_pretrained(\"jeniya/BERTOverflow_stackoverflow_github\")\n",
    "\n",
    "# model = AutoModel.from_pretrained(\"jeniya/BERTOverflow_stackoverflow_github\")\n",
    "\n",
    "tokenizer = DistilBertTokenizer.from_pretrained('distilbert-base-uncased')\n",
    "\n",
    "model = DistilBertModel.from_pretrained('distilbert-base-uncased')"
   ]
  },
  {
   "cell_type": "markdown",
   "metadata": {},
   "source": [
    "#### <font color='blue'>(2)使用tokenizer处理文本，将body文本进行padding、mask </font>"
   ]
  },
  {
   "cell_type": "code",
   "execution_count": 32,
   "metadata": {},
   "outputs": [],
   "source": [
    "body_tokenized =  question_df[\"Body\"].apply((lambda x: tokenizer.encode(x, add_special_tokens=True, truncation=True, max_length=64)))\n",
    "title_tokenized =  question_df[\"Title\"].apply((lambda x: tokenizer.encode(x, add_special_tokens=True, truncation=True, max_length=32)))"
   ]
  },
  {
   "cell_type": "code",
   "execution_count": 33,
   "metadata": {},
   "outputs": [],
   "source": [
    "body_max_len = 0\n",
    "for i in body_tokenized.values:\n",
    "    if len(i) > body_max_len:\n",
    "        body_max_len = len(i)\n",
    "\n",
    "title_max_len = 0\n",
    "for i in title_tokenized.values:\n",
    "    if len(i) > title_max_len:\n",
    "        title_max_len = len(i)"
   ]
  },
  {
   "cell_type": "code",
   "execution_count": 34,
   "metadata": {},
   "outputs": [],
   "source": [
    "import numpy as np\n",
    "body_padded = np.array([i + [0]*(body_max_len-len(i)) for i in body_tokenized.values])\n",
    "title_padded = np.array([i + [0]*(title_max_len-len(i)) for i in title_tokenized.values])"
   ]
  },
  {
   "cell_type": "code",
   "execution_count": 35,
   "metadata": {},
   "outputs": [],
   "source": [
    "body_attention_mask = np.where(body_padded != 0, 1, 0)\n",
    "title_attention_mask = np.where(title_padded != 0, 1, 0)"
   ]
  },
  {
   "cell_type": "code",
   "execution_count": 36,
   "metadata": {},
   "outputs": [],
   "source": [
    "import torch\n",
    "body_ids = torch.tensor(body_padded)\n",
    "title_ids = torch.tensor(title_padded)\n",
    "body_attention_mask = torch.tensor(body_attention_mask)\n",
    "title_attention_mask = torch.tensor(title_attention_mask)"
   ]
  },
  {
   "cell_type": "markdown",
   "metadata": {},
   "source": [
    "#### <font color='blue'>(3)使用Bert得到文本的嵌入表示 </font>"
   ]
  },
  {
   "cell_type": "code",
   "execution_count": 37,
   "metadata": {},
   "outputs": [],
   "source": [
    "with torch.no_grad():\n",
    "    body_embedding = model(body_ids, attention_mask = body_attention_mask)\n",
    "    title_embedding = model(title_ids, attention_mask = title_attention_mask)"
   ]
  },
  {
   "cell_type": "code",
   "execution_count": 38,
   "metadata": {},
   "outputs": [],
   "source": [
    "body_features = body_embedding[0][:,0,:].numpy() # 只取[CLS]的嵌入结果\n",
    "title_features = title_embedding[0][:,0,:].numpy()"
   ]
  },
  {
   "cell_type": "code",
   "execution_count": 39,
   "metadata": {
    "scrolled": true
   },
   "outputs": [
    {
     "data": {
      "text/plain": [
       "(100, 768)"
      ]
     },
     "execution_count": 39,
     "metadata": {},
     "output_type": "execute_result"
    }
   ],
   "source": [
    "body_features.shape"
   ]
  },
  {
   "cell_type": "markdown",
   "metadata": {},
   "source": [
    "#### <font color='blue'>(4)对嵌入向量进行可视化 </font>"
   ]
  },
  {
   "cell_type": "markdown",
   "metadata": {},
   "source": [
    "* 使用svd对嵌入向量进行降维"
   ]
  },
  {
   "cell_type": "code",
   "execution_count": 40,
   "metadata": {},
   "outputs": [],
   "source": [
    "from sklearn.decomposition import TruncatedSVD\n",
    "from sklearn.decomposition import PCA\n",
    "def reduce_to_k_dim(M, k=2):   \n",
    "    n_iters = 10     # Use this parameter in your call to `TruncatedSVD`\n",
    "    M_reduced = None\n",
    "    print(\"Running Truncated SVD over %i words...\" % (M.shape[0]))\n",
    "    \n",
    "    # ------------------\n",
    "    svd = TruncatedSVD(n_components=2)\n",
    "    M_reduced = svd.fit_transform(M)\n",
    "\n",
    "    # ------------------\n",
    "\n",
    "    print(\"Done.\")\n",
    "    return M_reduced"
   ]
  },
  {
   "cell_type": "code",
   "execution_count": 41,
   "metadata": {
    "scrolled": true
   },
   "outputs": [
    {
     "name": "stdout",
     "output_type": "stream",
     "text": [
      "Running Truncated SVD over 100 words...\n",
      "Done.\n",
      "Running Truncated SVD over 100 words...\n",
      "Done.\n"
     ]
    }
   ],
   "source": [
    "body_features_reduced = reduce_to_k_dim(body_features)\n",
    "title_features_reduced = reduce_to_k_dim(title_features)"
   ]
  },
  {
   "cell_type": "markdown",
   "metadata": {},
   "source": [
    "* 使用降维的向量进行可视化"
   ]
  },
  {
   "cell_type": "code",
   "execution_count": 42,
   "metadata": {},
   "outputs": [],
   "source": [
    "def plot_embeddings(M_reduced, doc_idx_list, tags):\n",
    "    # ------------------\n",
    "    plt.figure(figsize=(20,20))\n",
    "    for i, doc_idx in enumerate(doc_idx_list):\n",
    "        tag = tags[doc_idx]\n",
    "        if not tag:\n",
    "            continue\n",
    "        x_coord = M_reduced[doc_idx][0]\n",
    "        y_coord = M_reduced[doc_idx][1]\n",
    "        plt.scatter(x_coord, y_coord, marker = 'x', color = 'red')\n",
    "        plt.text(x_coord+0.0003, y_coord+0.0003, tag, fontsize=9)\n",
    "    plt.show()\n",
    "    # ------------------"
   ]
  },
  {
   "cell_type": "code",
   "execution_count": 43,
   "metadata": {},
   "outputs": [],
   "source": [
    "doc_idx_list = list(range(50))\n",
    "tags = [question_df['Tags'][idx] for idx in doc_idx_list]"
   ]
  },
  {
   "cell_type": "code",
   "execution_count": 44,
   "metadata": {},
   "outputs": [],
   "source": [
    "for i in range(len(tags)):\n",
    "    tags[i] = [t for t in tags[i] if 'python' not in t]    # 因为每个question都带有python标签，可视化的时候删掉python标签\n",
    "    tags[i] = \"\".join(tags[i])"
   ]
  },
  {
   "cell_type": "code",
   "execution_count": 45,
   "metadata": {},
   "outputs": [
    {
     "data": {
      "image/png": "[encoded data removed]",
      "text/plain": [
       "<Figure size 1440x1440 with 1 Axes>"
      ]
     },
     "metadata": {
      "needs_background": "light"
     },
     "output_type": "display_data"
    }
   ],
   "source": [
    "plot_embeddings(title_features_reduced, doc_idx_list, tags)    # 绘制"
   ]
  },
  {
   "cell_type": "markdown",
   "metadata": {},
   "source": [
    "从上图可以看到，嵌入向量确实可以一定程度上现实其语义信息，例如图中的中间靠右侧的两个问题，标签里都含有chrome，这两个问题的嵌入向量，经过PCA降维后，距离很近"
   ]
  },
  {
   "cell_type": "markdown",
   "metadata": {},
   "source": [
    "---\n",
    "\n",
    "### **最后处理得到的结果有：**\n",
    "+ 处理过的question_df\n",
    "+ Body文本内容的嵌入 body_features\n",
    "+ Title文本内容的嵌入 title_features"
   ]
  },
  {
   "cell_type": "code",
   "execution_count": 48,
   "metadata": {
    "scrolled": false
   },
   "outputs": [
    {
     "data": {
      "text/html": [
       "<div>\n",
       "<style scoped>\n",
       "    .dataframe tbody tr th:only-of-type {\n",
       "        vertical-align: middle;\n",
       "    }\n",
       "\n",
       "    .dataframe tbody tr th {\n",
       "        vertical-align: top;\n",
       "    }\n",
       "\n",
       "    .dataframe thead th {\n",
       "        text-align: right;\n",
       "    }\n",
       "</style>\n",
       "<table border=\"1\" class=\"dataframe\">\n",
       "  <thead>\n",
       "    <tr style=\"text-align: right;\">\n",
       "      <th></th>\n",
       "      <th>Id</th>\n",
       "      <th>CreationDate</th>\n",
       "      <th>Score</th>\n",
       "      <th>ViewCount</th>\n",
       "      <th>Body</th>\n",
       "      <th>LastActivityDate</th>\n",
       "      <th>Title</th>\n",
       "      <th>Tags</th>\n",
       "      <th>AnswerCount</th>\n",
       "      <th>CommentCount</th>\n",
       "      <th>FavoriteCount</th>\n",
       "      <th>Editted</th>\n",
       "      <th>OwnAcceptedAnswer</th>\n",
       "      <th>Closed</th>\n",
       "    </tr>\n",
       "  </thead>\n",
       "  <tbody>\n",
       "    <tr>\n",
       "      <th>0</th>\n",
       "      <td>64841366</td>\n",
       "      <td>1.000000</td>\n",
       "      <td>0.714286</td>\n",
       "      <td>0.000000</td>\n",
       "      <td>hey i have be cod in python for a while and i ...</td>\n",
       "      <td>1.000000</td>\n",
       "      <td>be there any better way to write this</td>\n",
       "      <td>[python, python-3.x, optimization]</td>\n",
       "      <td>0.0</td>\n",
       "      <td>0.0</td>\n",
       "      <td>0.0</td>\n",
       "      <td>1</td>\n",
       "      <td>1</td>\n",
       "      <td>1</td>\n",
       "    </tr>\n",
       "    <tr>\n",
       "      <th>1</th>\n",
       "      <td>64841360</td>\n",
       "      <td>0.993309</td>\n",
       "      <td>0.714286</td>\n",
       "      <td>0.047619</td>\n",
       "      <td>currently each column that i want to delimit s...</td>\n",
       "      <td>0.993235</td>\n",
       "      <td>how do i delimit each column by a comma and re...</td>\n",
       "      <td>[python, pandas]</td>\n",
       "      <td>0.0</td>\n",
       "      <td>0.0</td>\n",
       "      <td>0.0</td>\n",
       "      <td>1</td>\n",
       "      <td>1</td>\n",
       "      <td>1</td>\n",
       "    </tr>\n",
       "  </tbody>\n",
       "</table>\n",
       "</div>"
      ],
      "text/plain": [
       "         Id  CreationDate     Score  ViewCount  \\\n",
       "0  64841366      1.000000  0.714286   0.000000   \n",
       "1  64841360      0.993309  0.714286   0.047619   \n",
       "\n",
       "                                                Body  LastActivityDate  \\\n",
       "0  hey i have be cod in python for a while and i ...          1.000000   \n",
       "1  currently each column that i want to delimit s...          0.993235   \n",
       "\n",
       "                                               Title  \\\n",
       "0              be there any better way to write this   \n",
       "1  how do i delimit each column by a comma and re...   \n",
       "\n",
       "                                 Tags  AnswerCount  CommentCount  \\\n",
       "0  [python, python-3.x, optimization]          0.0           0.0   \n",
       "1                    [python, pandas]          0.0           0.0   \n",
       "\n",
       "   FavoriteCount  Editted  OwnAcceptedAnswer  Closed  \n",
       "0            0.0        1                  1       1  \n",
       "1            0.0        1                  1       1  "
      ]
     },
     "execution_count": 48,
     "metadata": {},
     "output_type": "execute_result"
    }
   ],
   "source": [
    "question_df.head(2)"
   ]
  },
  {
   "cell_type": "code",
   "execution_count": 49,
   "metadata": {
    "scrolled": true
   },
   "outputs": [
    {
     "data": {
      "text/plain": [
       "(100, 768)"
      ]
     },
     "execution_count": 49,
     "metadata": {},
     "output_type": "execute_result"
    }
   ],
   "source": [
    "body_features.shape"
   ]
  },
  {
   "cell_type": "code",
   "execution_count": 50,
   "metadata": {},
   "outputs": [
    {
     "data": {
      "text/plain": [
       "(100, 768)"
      ]
     },
     "execution_count": 50,
     "metadata": {},
     "output_type": "execute_result"
    }
   ],
   "source": [
    "title_features.shape"
   ]
  }
 ],
 "metadata": {
  "kernelspec": {
   "display_name": "Python 3",
   "language": "python",
   "name": "python3"
  },
  "language_info": {
   "codemirror_mode": {
    "name": "ipython",
    "version": 3
   },
   "file_extension": ".py",
   "mimetype": "text/x-python",
   "name": "python",
   "nbconvert_exporter": "python",
   "pygments_lexer": "ipython3",
   "version": "3.8.5"
  }
 },
 "nbformat": 4,
 "nbformat_minor": 4
}
